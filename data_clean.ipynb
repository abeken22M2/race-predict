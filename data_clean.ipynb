{
 "cells": [
  {
   "cell_type": "code",
   "execution_count": 1,
   "metadata": {},
   "outputs": [],
   "source": [
    "import numpy as np\n",
    "import pandas as pd\n",
    "#最大表示列数の指定（ここでは50列を指定）\n",
    "pd.set_option('display.max_columns', 50)"
   ]
  },
  {
   "cell_type": "code",
   "execution_count": 2,
   "metadata": {},
   "outputs": [],
   "source": [
    "race_df = pd.read_csv(\"./csv/race-2008.csv\", sep=\",\")\n",
    "horse_df = pd.read_csv(\"./csv/horse-2008.csv\", sep=\",\")\n",
    "for year in range(2009, 2023):\n",
    "    race_tmp_df = pd.read_csv(\"./csv/race-\"+str(year)+\".csv\", sep=\",\", low_memory=False)\n",
    "    horse_tmp_df = pd.read_csv(\"./csv/horse-\"+str(year)+\".csv\", sep=\",\", low_memory=False)\n",
    "    race_df = pd.concat([race_df, race_tmp_df], axis=0)\n",
    "    horse_df = pd.concat([horse_df, horse_tmp_df], axis=0)"
   ]
  },
  {
   "cell_type": "markdown",
   "metadata": {},
   "source": [
    "## 元データの確認"
   ]
  },
  {
   "cell_type": "code",
   "execution_count": 3,
   "metadata": {},
   "outputs": [
    {
     "name": "stdout",
     "output_type": "stream",
     "text": [
      "True\n",
      "(49925, 28)\n"
     ]
    },
    {
     "data": {
      "text/html": [
       "<div>\n",
       "<style scoped>\n",
       "    .dataframe tbody tr th:only-of-type {\n",
       "        vertical-align: middle;\n",
       "    }\n",
       "\n",
       "    .dataframe tbody tr th {\n",
       "        vertical-align: top;\n",
       "    }\n",
       "\n",
       "    .dataframe thead th {\n",
       "        text-align: right;\n",
       "    }\n",
       "</style>\n",
       "<table border=\"1\" class=\"dataframe\">\n",
       "  <thead>\n",
       "    <tr style=\"text-align: right;\">\n",
       "      <th></th>\n",
       "      <th>race_id</th>\n",
       "      <th>race_round</th>\n",
       "      <th>race_title</th>\n",
       "      <th>race_course</th>\n",
       "      <th>weather</th>\n",
       "      <th>ground_status</th>\n",
       "      <th>time</th>\n",
       "      <th>date</th>\n",
       "      <th>where_racecourse</th>\n",
       "      <th>total_horse_number</th>\n",
       "      <th>frame_number_first</th>\n",
       "      <th>horse_number_first</th>\n",
       "      <th>frame_number_second</th>\n",
       "      <th>horse_number_second</th>\n",
       "      <th>frame_number_third</th>\n",
       "      <th>horse_number_third</th>\n",
       "      <th>tansyo</th>\n",
       "      <th>hukusyo_first</th>\n",
       "      <th>hukusyo_second</th>\n",
       "      <th>hukusyo_third</th>\n",
       "      <th>wakuren</th>\n",
       "      <th>umaren</th>\n",
       "      <th>wide_1_2</th>\n",
       "      <th>wide_1_3</th>\n",
       "      <th>wide_2_3</th>\n",
       "      <th>umatan</th>\n",
       "      <th>renhuku3</th>\n",
       "      <th>rentan3</th>\n",
       "    </tr>\n",
       "  </thead>\n",
       "  <tbody>\n",
       "    <tr>\n",
       "      <th>1726</th>\n",
       "      <td>202209030411</td>\n",
       "      <td>11 R</td>\n",
       "      <td>第63回宝塚記念(G1)</td>\n",
       "      <td>芝右2200m</td>\n",
       "      <td>天候 : 晴</td>\n",
       "      <td>芝 : 良</td>\n",
       "      <td>発走 : 15:40\\n\\n過去の宝塚記念</td>\n",
       "      <td>2022年6月26日</td>\n",
       "      <td>3回阪神4日目</td>\n",
       "      <td>18</td>\n",
       "      <td>3</td>\n",
       "      <td>6</td>\n",
       "      <td>5</td>\n",
       "      <td>10</td>\n",
       "      <td>4</td>\n",
       "      <td>7</td>\n",
       "      <td>420</td>\n",
       "      <td>180</td>\n",
       "      <td>250</td>\n",
       "      <td>240</td>\n",
       "      <td>2,520</td>\n",
       "      <td>2,060</td>\n",
       "      <td>780</td>\n",
       "      <td>710</td>\n",
       "      <td>840</td>\n",
       "      <td>3,420</td>\n",
       "      <td>5,150</td>\n",
       "      <td>25,220</td>\n",
       "    </tr>\n",
       "    <tr>\n",
       "      <th>1727</th>\n",
       "      <td>202209030412</td>\n",
       "      <td>12 R</td>\n",
       "      <td>リボン賞</td>\n",
       "      <td>ダ右1200m</td>\n",
       "      <td>天候 : 晴</td>\n",
       "      <td>ダート : 良</td>\n",
       "      <td>発走 : 16:30\\n\\n過去のリボン賞</td>\n",
       "      <td>2022年6月26日</td>\n",
       "      <td>3回阪神4日目</td>\n",
       "      <td>16</td>\n",
       "      <td>3</td>\n",
       "      <td>5</td>\n",
       "      <td>7</td>\n",
       "      <td>14</td>\n",
       "      <td>8</td>\n",
       "      <td>15</td>\n",
       "      <td>990</td>\n",
       "      <td>290</td>\n",
       "      <td>1,520</td>\n",
       "      <td>660</td>\n",
       "      <td>9,570</td>\n",
       "      <td>34,170</td>\n",
       "      <td>6,890</td>\n",
       "      <td>3,370</td>\n",
       "      <td>10,540</td>\n",
       "      <td>52,400</td>\n",
       "      <td>137,920</td>\n",
       "      <td>1,016,060</td>\n",
       "    </tr>\n",
       "  </tbody>\n",
       "</table>\n",
       "</div>"
      ],
      "text/plain": [
       "           race_id race_round    race_title race_course weather ground_status  \\\n",
       "1726  202209030411       11 R  第63回宝塚記念(G1)     芝右2200m  天候 : 晴         芝 : 良   \n",
       "1727  202209030412       12 R         リボン賞      ダ右1200m  天候 : 晴       ダート : 良   \n",
       "\n",
       "                       time        date where_racecourse  total_horse_number  \\\n",
       "1726  発走 : 15:40\\n\\n過去の宝塚記念  2022年6月26日          3回阪神4日目                  18   \n",
       "1727  発走 : 16:30\\n\\n過去のリボン賞  2022年6月26日          3回阪神4日目                  16   \n",
       "\n",
       "      frame_number_first  horse_number_first  frame_number_second  \\\n",
       "1726                   3                   6                    5   \n",
       "1727                   3                   5                    7   \n",
       "\n",
       "      horse_number_second  frame_number_third  horse_number_third tansyo  \\\n",
       "1726                   10                   4                   7    420   \n",
       "1727                   14                   8                  15    990   \n",
       "\n",
       "     hukusyo_first hukusyo_second hukusyo_third wakuren  umaren wide_1_2  \\\n",
       "1726           180            250           240   2,520   2,060      780   \n",
       "1727           290          1,520           660   9,570  34,170    6,890   \n",
       "\n",
       "     wide_1_3 wide_2_3  umatan renhuku3    rentan3  \n",
       "1726      710      840   3,420    5,150     25,220  \n",
       "1727    3,370   10,540  52,400  137,920  1,016,060  "
      ]
     },
     "execution_count": 3,
     "metadata": {},
     "output_type": "execute_result"
    }
   ],
   "source": [
    "# race_id単位で重複したデータが存在しないか確認\n",
    "print(len(race_df) == len(race_df['race_id'].unique()))\n",
    "print(race_df.shape)\n",
    "race_df.tail(2)"
   ]
  },
  {
   "cell_type": "code",
   "execution_count": 4,
   "metadata": {},
   "outputs": [
    {
     "data": {
      "text/plain": [
       "16    18137\n",
       "15     5614\n",
       "14     5083\n",
       "18     4324\n",
       "13     3993\n",
       "12     3809\n",
       "11     2801\n",
       "10     2283\n",
       "9      1612\n",
       "8       961\n",
       "17      804\n",
       "7       351\n",
       "6       117\n",
       "5        36\n",
       "Name: total_horse_number, dtype: int64"
      ]
     },
     "execution_count": 4,
     "metadata": {},
     "output_type": "execute_result"
    }
   ],
   "source": [
    "# 出走馬数の確認\n",
    "race_df[\"total_horse_number\"].value_counts()"
   ]
  },
  {
   "cell_type": "code",
   "execution_count": 5,
   "metadata": {},
   "outputs": [
    {
     "name": "stdout",
     "output_type": "stream",
     "text": [
      "(713857, 19)\n"
     ]
    },
    {
     "data": {
      "text/html": [
       "<div>\n",
       "<style scoped>\n",
       "    .dataframe tbody tr th:only-of-type {\n",
       "        vertical-align: middle;\n",
       "    }\n",
       "\n",
       "    .dataframe tbody tr th {\n",
       "        vertical-align: top;\n",
       "    }\n",
       "\n",
       "    .dataframe thead th {\n",
       "        text-align: right;\n",
       "    }\n",
       "</style>\n",
       "<table border=\"1\" class=\"dataframe\">\n",
       "  <thead>\n",
       "    <tr style=\"text-align: right;\">\n",
       "      <th></th>\n",
       "      <th>race_id</th>\n",
       "      <th>rank</th>\n",
       "      <th>frame_number</th>\n",
       "      <th>horse_number</th>\n",
       "      <th>horse_id</th>\n",
       "      <th>sex_and_age</th>\n",
       "      <th>burden_weight</th>\n",
       "      <th>rider_id</th>\n",
       "      <th>goal_time</th>\n",
       "      <th>goal_time_dif</th>\n",
       "      <th>time_value</th>\n",
       "      <th>half_way_rank</th>\n",
       "      <th>last_time</th>\n",
       "      <th>odds</th>\n",
       "      <th>popular</th>\n",
       "      <th>horse_weight</th>\n",
       "      <th>tame_time</th>\n",
       "      <th>tamer_id</th>\n",
       "      <th>owner_id</th>\n",
       "    </tr>\n",
       "  </thead>\n",
       "  <tbody>\n",
       "    <tr>\n",
       "      <th>0</th>\n",
       "      <td>200806010101</td>\n",
       "      <td>1</td>\n",
       "      <td>1</td>\n",
       "      <td>2</td>\n",
       "      <td>2005102028</td>\n",
       "      <td>牝3</td>\n",
       "      <td>54.0</td>\n",
       "      <td>733</td>\n",
       "      <td>1:13.9</td>\n",
       "      <td>NaN</td>\n",
       "      <td>\\n\\n**\\n\\n</td>\n",
       "      <td>1-1</td>\n",
       "      <td>39.2</td>\n",
       "      <td>8.1</td>\n",
       "      <td>4.0</td>\n",
       "      <td>450(-10)</td>\n",
       "      <td>\\n\\n</td>\n",
       "      <td>138</td>\n",
       "      <td>498800</td>\n",
       "    </tr>\n",
       "    <tr>\n",
       "      <th>1</th>\n",
       "      <td>200806010101</td>\n",
       "      <td>2</td>\n",
       "      <td>3</td>\n",
       "      <td>5</td>\n",
       "      <td>2005101044</td>\n",
       "      <td>牝3</td>\n",
       "      <td>54.0</td>\n",
       "      <td>663</td>\n",
       "      <td>1:13.9</td>\n",
       "      <td>ハナ</td>\n",
       "      <td>\\n\\n**\\n\\n</td>\n",
       "      <td>10-7</td>\n",
       "      <td>38.5</td>\n",
       "      <td>13.4</td>\n",
       "      <td>6.0</td>\n",
       "      <td>482(+2)</td>\n",
       "      <td>\\n\\n</td>\n",
       "      <td>1088</td>\n",
       "      <td>163002</td>\n",
       "    </tr>\n",
       "  </tbody>\n",
       "</table>\n",
       "</div>"
      ],
      "text/plain": [
       "        race_id rank  frame_number  horse_number    horse_id sex_and_age  \\\n",
       "0  200806010101    1             1             2  2005102028          牝3   \n",
       "1  200806010101    2             3             5  2005101044          牝3   \n",
       "\n",
       "   burden_weight  rider_id goal_time goal_time_dif  time_value half_way_rank  \\\n",
       "0           54.0       733    1:13.9           NaN  \\n\\n**\\n\\n           1-1   \n",
       "1           54.0       663    1:13.9            ハナ  \\n\\n**\\n\\n          10-7   \n",
       "\n",
       "   last_time  odds  popular horse_weight tame_time  tamer_id owner_id  \n",
       "0       39.2   8.1      4.0     450(-10)      \\n\\n       138   498800  \n",
       "1       38.5  13.4      6.0      482(+2)      \\n\\n      1088   163002  "
      ]
     },
     "execution_count": 5,
     "metadata": {},
     "output_type": "execute_result"
    }
   ],
   "source": [
    "print(horse_df.shape)\n",
    "horse_df.head(2)"
   ]
  },
  {
   "cell_type": "markdown",
   "metadata": {},
   "source": [
    "## raceデータの整形"
   ]
  },
  {
   "cell_type": "code",
   "execution_count": 6,
   "metadata": {},
   "outputs": [
    {
     "data": {
      "text/html": [
       "<div>\n",
       "<style scoped>\n",
       "    .dataframe tbody tr th:only-of-type {\n",
       "        vertical-align: middle;\n",
       "    }\n",
       "\n",
       "    .dataframe tbody tr th {\n",
       "        vertical-align: top;\n",
       "    }\n",
       "\n",
       "    .dataframe thead th {\n",
       "        text-align: right;\n",
       "    }\n",
       "</style>\n",
       "<table border=\"1\" class=\"dataframe\">\n",
       "  <thead>\n",
       "    <tr style=\"text-align: right;\">\n",
       "      <th></th>\n",
       "      <th>race_id</th>\n",
       "      <th>race_round</th>\n",
       "      <th>race_title</th>\n",
       "      <th>race_course</th>\n",
       "      <th>weather</th>\n",
       "      <th>ground_status</th>\n",
       "      <th>time</th>\n",
       "      <th>date</th>\n",
       "      <th>where_racecourse</th>\n",
       "      <th>total_horse_number</th>\n",
       "      <th>frame_number_first</th>\n",
       "      <th>horse_number_first</th>\n",
       "      <th>frame_number_second</th>\n",
       "      <th>horse_number_second</th>\n",
       "      <th>frame_number_third</th>\n",
       "      <th>horse_number_third</th>\n",
       "      <th>tansyo</th>\n",
       "      <th>hukusyo_first</th>\n",
       "      <th>hukusyo_second</th>\n",
       "      <th>hukusyo_third</th>\n",
       "      <th>wakuren</th>\n",
       "      <th>umaren</th>\n",
       "      <th>wide_1_2</th>\n",
       "      <th>wide_1_3</th>\n",
       "      <th>wide_2_3</th>\n",
       "      <th>umatan</th>\n",
       "      <th>renhuku3</th>\n",
       "      <th>rentan3</th>\n",
       "    </tr>\n",
       "  </thead>\n",
       "  <tbody>\n",
       "    <tr>\n",
       "      <th>0</th>\n",
       "      <td>200806010101</td>\n",
       "      <td>1 R</td>\n",
       "      <td>3歳未勝利</td>\n",
       "      <td>ダ右1200m</td>\n",
       "      <td>天候 : 曇</td>\n",
       "      <td>ダート : 良</td>\n",
       "      <td>発走 : 09:50</td>\n",
       "      <td>2008年1月5日</td>\n",
       "      <td>1回中山1日目</td>\n",
       "      <td>16</td>\n",
       "      <td>1</td>\n",
       "      <td>2</td>\n",
       "      <td>3</td>\n",
       "      <td>5</td>\n",
       "      <td>2</td>\n",
       "      <td>3</td>\n",
       "      <td>810</td>\n",
       "      <td>260</td>\n",
       "      <td>400</td>\n",
       "      <td>290</td>\n",
       "      <td>3,480</td>\n",
       "      <td>4,520</td>\n",
       "      <td>1,550</td>\n",
       "      <td>960</td>\n",
       "      <td>1,560</td>\n",
       "      <td>8,940</td>\n",
       "      <td>10,600</td>\n",
       "      <td>0</td>\n",
       "    </tr>\n",
       "  </tbody>\n",
       "</table>\n",
       "</div>"
      ],
      "text/plain": [
       "        race_id race_round race_title race_course weather ground_status  \\\n",
       "0  200806010101        1 R      3歳未勝利     ダ右1200m  天候 : 曇       ダート : 良   \n",
       "\n",
       "         time       date where_racecourse  total_horse_number  \\\n",
       "0  発走 : 09:50  2008年1月5日          1回中山1日目                  16   \n",
       "\n",
       "   frame_number_first  horse_number_first  frame_number_second  \\\n",
       "0                   1                   2                    3   \n",
       "\n",
       "   horse_number_second  frame_number_third  horse_number_third tansyo  \\\n",
       "0                    5                   2                   3    810   \n",
       "\n",
       "  hukusyo_first hukusyo_second hukusyo_third wakuren umaren wide_1_2 wide_1_3  \\\n",
       "0           260            400           290   3,480  4,520    1,550      960   \n",
       "\n",
       "  wide_2_3 umatan renhuku3 rentan3  \n",
       "0    1,560  8,940   10,600       0  "
      ]
     },
     "execution_count": 6,
     "metadata": {},
     "output_type": "execute_result"
    }
   ],
   "source": [
    "race_df.head(1)"
   ]
  },
  {
   "cell_type": "markdown",
   "metadata": {},
   "source": [
    "### race_id\n",
    "そのままでOK"
   ]
  },
  {
   "cell_type": "code",
   "execution_count": 7,
   "metadata": {},
   "outputs": [
    {
     "data": {
      "text/plain": [
       "dtype('int64')"
      ]
     },
     "execution_count": 7,
     "metadata": {},
     "output_type": "execute_result"
    }
   ],
   "source": [
    "# 一応確認\n",
    "race_df[\"race_id\"].dtypes"
   ]
  },
  {
   "cell_type": "markdown",
   "metadata": {},
   "source": [
    "### race_round\n",
    "余分な空白とRを取り除く"
   ]
  },
  {
   "cell_type": "code",
   "execution_count": 8,
   "metadata": {},
   "outputs": [
    {
     "data": {
      "text/plain": [
       "dtype('O')"
      ]
     },
     "execution_count": 8,
     "metadata": {},
     "output_type": "execute_result"
    }
   ],
   "source": [
    "race_df[\"race_round\"].dtypes"
   ]
  },
  {
   "cell_type": "code",
   "execution_count": 9,
   "metadata": {},
   "outputs": [
    {
     "data": {
      "text/plain": [
       "array(['1 R', '2 R', '3 R', '4 R', '5 R', '6 R', '7 R', '8 R', '9 R',\n",
       "       '10 R', '11 R', '12 R'], dtype=object)"
      ]
     },
     "execution_count": 9,
     "metadata": {},
     "output_type": "execute_result"
    }
   ],
   "source": [
    "race_df['race_round'].unique()"
   ]
  },
  {
   "cell_type": "code",
   "execution_count": 10,
   "metadata": {},
   "outputs": [],
   "source": [
    "race_df['race_round'] = race_df['race_round'].str.strip('R \\n')"
   ]
  },
  {
   "cell_type": "code",
   "execution_count": 11,
   "metadata": {},
   "outputs": [
    {
     "data": {
      "text/plain": [
       "array(['1', '2', '3', '4', '5', '6', '7', '8', '9', '10', '11', '12'],\n",
       "      dtype=object)"
      ]
     },
     "execution_count": 11,
     "metadata": {},
     "output_type": "execute_result"
    }
   ],
   "source": [
    "race_df['race_round'].unique()"
   ]
  },
  {
   "cell_type": "code",
   "execution_count": 12,
   "metadata": {},
   "outputs": [
    {
     "data": {
      "text/plain": [
       "dtype('int32')"
      ]
     },
     "execution_count": 12,
     "metadata": {},
     "output_type": "execute_result"
    }
   ],
   "source": [
    "race_df['race_round'] = race_df['race_round'].astype(int)\n",
    "race_df[\"race_round\"].dtypes"
   ]
  },
  {
   "cell_type": "markdown",
   "metadata": {},
   "source": [
    "### race_title\n",
    "いらないので削除"
   ]
  },
  {
   "cell_type": "code",
   "execution_count": 13,
   "metadata": {},
   "outputs": [],
   "source": [
    "# もともとのカラムは不要なので削除\n",
    "race_df.drop(['race_title'], axis=1, inplace=True)"
   ]
  },
  {
   "cell_type": "markdown",
   "metadata": {},
   "source": [
    "### race_course\n",
    "「ダ右1200m」などであれば、ダート・右回り・1200に分割して、それぞれ別のカラムにする。\n",
    "\n",
    "新たに4つのカラムを追加\n",
    "- 障害コースか？\n",
    "- 地面のタイプは何か？\n",
    "- 右回り・左回り・直線か？\n",
    "- 距離は？"
   ]
  },
  {
   "cell_type": "code",
   "execution_count": 14,
   "metadata": {},
   "outputs": [
    {
     "data": {
      "text/plain": [
       "array(['ダ右1200m', 'ダ右1800m', '芝右 外1600m', '芝右2000m', '芝右 外1200m',\n",
       "       'ダ右2500m', '芝右1800m', '障芝 ダート3200m', '芝右 外2200m', '障芝 ダート2880m',\n",
       "       'ダ右2400m', '芝右2500m', 'ダ右1400m', '芝右 外1800m', '芝右 外3000m',\n",
       "       '障芝 ダート2930m', '芝右1200m', '芝右1600m', '芝右 外1400m', '芝右 外2400m',\n",
       "       '障芝 ダート3190m', '芝右1400m', 'ダ右1000m', 'ダ右1700m', '芝右2600m',\n",
       "       'ダ左1400m', 'ダ左2100m', 'ダ左1600m', '障芝 ダート3000m', '芝左1800m',\n",
       "       '芝左2400m', 'ダ左1300m', '芝左1400m', '芝左1600m', '障芝 ダート3300m',\n",
       "       '芝左2000m', '芝左3400m', 'ダ左2400m', 'ダ右1900m', '障芝 ダート3790m',\n",
       "       '障芝 外3350m', 'ダ左1700m', 'ダ左1000m', '芝左1200m', '芝左2500m', 'ダ左2300m',\n",
       "       '障芝 ダート3110m', '障芝 ダート2970m', '芝右2200m', 'ダ右2000m', '障芝3900m',\n",
       "       '芝右3000m', 'ダ右1150m', '芝左2300m', '障芝 外4250m', '障芝 ダート3170m',\n",
       "       '障芝 ダート2910m', '障芝3140m', 'ダ左1800m', 'ダ左1200m', '芝左 外1800m',\n",
       "       '芝直線1000m', '芝左 外1600m', '芝左2200m', '芝左 外2000m', '障芝 ダート3100m',\n",
       "       '障芝 左2800m', '芝右 外3200m', '障芝 内-外3170m', '芝右1000m', '障芝2750m',\n",
       "       '芝右1700m', '障芝3300m', '障芝 左3370m', '障芝2770m', '障芝3380m',\n",
       "       '障芝 外-内2850m', '障芝2900m', '障芝3390m', '芝右1500m', '障芝 外-内3250m',\n",
       "       '障芝3210m', '障芝3930m', '障芝3570m', '芝右 内2周3600m', '障芝4100m',\n",
       "       '障芝 ダート3285m', '障芝 ダート3760m', '障芝 外4260m', 'ダ左2500m', '障芝3110m',\n",
       "       'ダ左1900m', '障芝3000m', '障芝3330m', '障芝 外-内2890m', '障芝 外-内3290m',\n",
       "       '障芝3350m', '障芝2800m', '障芝2860m', '芝右 外2600m', '芝左3000m',\n",
       "       '芝右 外-内3200m'], dtype=object)"
      ]
     },
     "execution_count": 14,
     "metadata": {},
     "output_type": "execute_result"
    }
   ],
   "source": [
    "race_df[\"race_course\"].unique()"
   ]
  },
  {
   "cell_type": "code",
   "execution_count": 15,
   "metadata": {},
   "outputs": [],
   "source": [
    "# 正規表現で取得\n",
    "\n",
    "# 障害か、地面のタイプは何か、左か、右か、直線か、\n",
    "obstacle = race_df[\"race_course\"].str.extract('(障)', expand=True)\n",
    "ground_type = race_df[\"race_course\"].str.extract('(ダ|芝)', expand=True)\n",
    "is_left_right_straight = race_df[\"race_course\"].str.extract('(左|右|直線)', expand=True)\n",
    "distance = race_df[\"race_course\"].str.extract('(\\d+)m', expand=True)\n",
    "\n",
    "obstacle.columns ={\"is_obstacle\"}\n",
    "ground_type.columns ={\"ground_type\"}\n",
    "is_left_right_straight.columns = {\"is_left_right_straight\"}\n",
    "distance.columns = {\"distance\"}\n",
    "\n",
    "race_df = pd.concat([race_df, obstacle], axis=1)\n",
    "race_df = pd.concat([race_df, ground_type], axis=1)\n",
    "race_df = pd.concat([race_df, is_left_right_straight], axis=1)\n",
    "race_df = pd.concat([race_df, distance], axis=1)"
   ]
  },
  {
   "cell_type": "code",
   "execution_count": 16,
   "metadata": {},
   "outputs": [],
   "source": [
    "# 'is_obstacle' 列の '障芝' を1に置き換え、Nanに0埋め\n",
    "race_df['is_obstacle'] = race_df['is_obstacle'].replace('障', 1)\n",
    "race_df.fillna(value={'is_obstacle': 0}, inplace=True)"
   ]
  },
  {
   "cell_type": "code",
   "execution_count": 17,
   "metadata": {},
   "outputs": [
    {
     "name": "stdout",
     "output_type": "stream",
     "text": [
      "is_obstacle: [0. 1.]\n",
      "ground_type: ['ダ' '芝']\n",
      "is_left_right_straight: ['右' nan '左' '直線']\n",
      "distance isnull sum: 0\n"
     ]
    }
   ],
   "source": [
    "print(\"is_obstacle:\", race_df[\"is_obstacle\"].unique())\n",
    "print(\"ground_type:\", race_df[\"ground_type\"].unique())\n",
    "print(\"is_left_right_straight:\", race_df[\"is_left_right_straight\"].unique())\n",
    "print(\"distance isnull sum:\", race_df[\"distance\"].isnull().sum())"
   ]
  },
  {
   "cell_type": "code",
   "execution_count": 18,
   "metadata": {},
   "outputs": [],
   "source": [
    "# もともとのカラムは不要なので削除\n",
    "race_df.drop(['race_course'], axis=1, inplace=True)"
   ]
  },
  {
   "cell_type": "code",
   "execution_count": 19,
   "metadata": {},
   "outputs": [],
   "source": [
    "race_df[\"distance\"] = race_df[\"distance\"].astype(int)"
   ]
  },
  {
   "cell_type": "markdown",
   "metadata": {},
   "source": [
    "### weather\n",
    "そのままone_hotエンコーディングしてデータを食わせても良さそうだが...\n",
    "\n",
    "余分な文字列を取り除く。\n",
    "\n",
    "また、少雨よりも雨が強いはず、小雪よりも雪が強いはず。これらの単純な雨量は別のデータを取ってこないと分からないが、大小関係は情報として入れられるはず。"
   ]
  },
  {
   "cell_type": "code",
   "execution_count": 20,
   "metadata": {},
   "outputs": [
    {
     "data": {
      "text/plain": [
       "array(['天候 : 曇', '天候 : 晴', '天候 : 小雨', '天候 : 雨', '天候 : 小雪', '天候 : 雪'],\n",
       "      dtype=object)"
      ]
     },
     "execution_count": 20,
     "metadata": {},
     "output_type": "execute_result"
    }
   ],
   "source": [
    "race_df[\"weather\"].unique()"
   ]
  },
  {
   "cell_type": "code",
   "execution_count": 21,
   "metadata": {},
   "outputs": [],
   "source": [
    "race_df['weather'] = race_df['weather'].str.strip('天候 :')"
   ]
  },
  {
   "cell_type": "code",
   "execution_count": 22,
   "metadata": {},
   "outputs": [
    {
     "data": {
      "text/plain": [
       "array(['曇', '晴', '小雨', '雨', '小雪', '雪'], dtype=object)"
      ]
     },
     "execution_count": 22,
     "metadata": {},
     "output_type": "execute_result"
    }
   ],
   "source": [
    "race_df[\"weather\"].unique()"
   ]
  },
  {
   "cell_type": "code",
   "execution_count": 23,
   "metadata": {},
   "outputs": [],
   "source": [
    "weather_rain = race_df[\"weather\"].str.extract('(小雨|雨)', expand=True)\n",
    "weather_snow = race_df[\"weather\"].str.extract('(小雪|雪)', expand=True)\n",
    "weather_rain.columns ={\"weather_rain\"}\n",
    "weather_snow.columns ={\"weather_snow\"}\n",
    "race_df = pd.concat([race_df, weather_rain], axis=1)\n",
    "race_df = pd.concat([race_df, weather_snow], axis=1)\n",
    "\n",
    "race_df.fillna(value={'weather_rain': 0}, inplace=True)\n",
    "race_df['weather_rain'] = race_df['weather_rain'].replace('小雨', 1)\n",
    "race_df['weather_rain'] = race_df['weather_rain'].replace('雨', 2)\n",
    "race_df.fillna(value={'weather_snow': 0}, inplace=True)\n",
    "race_df['weather_snow'] = race_df['weather_snow'].replace('小雪', 1)\n",
    "race_df['weather_snow'] = race_df['weather_snow'].replace('雪', 2)"
   ]
  },
  {
   "cell_type": "code",
   "execution_count": 24,
   "metadata": {},
   "outputs": [
    {
     "name": "stdout",
     "output_type": "stream",
     "text": [
      "weather_rain: 0    45441\n",
      "2     2656\n",
      "1     1828\n",
      "Name: weather_rain, dtype: int64\n",
      "weather_snow: 0    49837\n",
      "1       61\n",
      "2       27\n",
      "Name: weather_snow, dtype: int64\n"
     ]
    }
   ],
   "source": [
    "print(\"weather_rain:\", race_df[\"weather_rain\"].value_counts())\n",
    "print(\"weather_snow:\", race_df[\"weather_snow\"].value_counts())"
   ]
  },
  {
   "cell_type": "code",
   "execution_count": null,
   "metadata": {},
   "outputs": [],
   "source": []
  },
  {
   "cell_type": "markdown",
   "metadata": {},
   "source": [
    "### ground_status\n",
    "芝かダートかは既に別カラムにあるので、状態を見る。\n",
    "大小関係があるので数値として。"
   ]
  },
  {
   "cell_type": "code",
   "execution_count": 25,
   "metadata": {},
   "outputs": [
    {
     "data": {
      "text/plain": [
       "array(['ダート : 良', '芝 : 良', '芝 : 良\\xa0\\xa0ダート : 良', 'ダート : 稍重', '芝 : 稍重',\n",
       "       'ダート : 重', '芝 : 重', '芝 : 稍重\\xa0\\xa0ダート : 重',\n",
       "       '芝 : 良\\xa0\\xa0ダート : 稍重', 'ダート : 不良', '芝 : 不良',\n",
       "       '芝 : 良\\xa0\\xa0ダート : 不良', '芝 : 重\\xa0\\xa0ダート : 不良',\n",
       "       '芝 : 稍重\\xa0\\xa0ダート : 稍重', '芝 : 稍重\\xa0\\xa0ダート : 不良',\n",
       "       '芝 : 重\\xa0\\xa0ダート : 重', '芝 : 良\\xa0\\xa0ダート : 重',\n",
       "       '芝 : 不良\\xa0\\xa0ダート : 不良', '芝 : 稍重\\xa0\\xa0ダート : 良'], dtype=object)"
      ]
     },
     "execution_count": 25,
     "metadata": {},
     "output_type": "execute_result"
    }
   ],
   "source": [
    "race_df[\"ground_status\"].unique()"
   ]
  },
  {
   "cell_type": "code",
   "execution_count": 26,
   "metadata": {},
   "outputs": [],
   "source": [
    "race_df['ground_status'] = race_df['ground_status'].replace('.*(稍重).*', 4,regex=True)\n",
    "race_df['ground_status'] = race_df['ground_status'].replace('.*(重).*', 3,regex=True)\n",
    "race_df['ground_status'] = race_df['ground_status'].replace('.*(不良).*', 2,regex=True)\n",
    "race_df['ground_status'] = race_df['ground_status'].replace('.*(良).*', 1,regex=True)\n"
   ]
  },
  {
   "cell_type": "code",
   "execution_count": 27,
   "metadata": {},
   "outputs": [
    {
     "name": "stdout",
     "output_type": "stream",
     "text": [
      "ground_status: 1    35451\n",
      "4     8115\n",
      "3     4202\n",
      "2     2157\n",
      "Name: ground_status, dtype: int64\n"
     ]
    }
   ],
   "source": [
    "print(\"ground_status:\", race_df[\"ground_status\"].value_counts())"
   ]
  },
  {
   "cell_type": "markdown",
   "metadata": {},
   "source": [
    "### time と dateをあわせてdatetimeに"
   ]
  },
  {
   "cell_type": "code",
   "execution_count": 28,
   "metadata": {},
   "outputs": [
    {
     "name": "stderr",
     "output_type": "stream",
     "text": [
      "c:\\Users\\koich\\AppData\\Local\\Programs\\Python\\Python37\\lib\\site-packages\\ipykernel_launcher.py:1: FutureWarning: The default value of regex will change from True to False in a future version.\n",
      "  \"\"\"Entry point for launching an IPython kernel.\n"
     ]
    }
   ],
   "source": [
    "race_df[\"time\"] = race_df[\"time\"].str.replace('発走 : (\\d\\d):(\\d\\d)(.|\\n)*', r'\\1時\\2分')"
   ]
  },
  {
   "cell_type": "code",
   "execution_count": 29,
   "metadata": {},
   "outputs": [],
   "source": [
    "race_df[\"date\"] = race_df[\"date\"] + race_df[\"time\"]"
   ]
  },
  {
   "cell_type": "code",
   "execution_count": 30,
   "metadata": {},
   "outputs": [],
   "source": [
    "race_df[\"date\"] = pd.to_datetime(race_df['date'], format='%Y年%m月%d日%H時%M分')"
   ]
  },
  {
   "cell_type": "code",
   "execution_count": 31,
   "metadata": {},
   "outputs": [],
   "source": [
    "# もともとのtimeは不要なので削除\n",
    "race_df.drop(['time'], axis=1, inplace=True)"
   ]
  },
  {
   "cell_type": "code",
   "execution_count": 32,
   "metadata": {},
   "outputs": [
    {
     "name": "stdout",
     "output_type": "stream",
     "text": [
      "datetime64[ns]\n",
      "date isnull sum: 0\n"
     ]
    }
   ],
   "source": [
    "print(race_df[\"date\"].dtype)\n",
    "print(\"date isnull sum:\", race_df[\"date\"].isnull().sum())"
   ]
  },
  {
   "cell_type": "markdown",
   "metadata": {},
   "source": [
    "### where_racecourse\n",
    "例:1回小倉3日目 の中から小倉を取り出す"
   ]
  },
  {
   "cell_type": "code",
   "execution_count": 33,
   "metadata": {},
   "outputs": [
    {
     "name": "stderr",
     "output_type": "stream",
     "text": [
      "c:\\Users\\koich\\AppData\\Local\\Programs\\Python\\Python37\\lib\\site-packages\\ipykernel_launcher.py:1: FutureWarning: The default value of regex will change from True to False in a future version.\n",
      "  \"\"\"Entry point for launching an IPython kernel.\n"
     ]
    }
   ],
   "source": [
    "race_df[\"where_racecourse\"] = race_df[\"where_racecourse\"].str.replace('\\d*回(..)\\d*日目', r'\\1')\n"
   ]
  },
  {
   "cell_type": "code",
   "execution_count": 34,
   "metadata": {},
   "outputs": [
    {
     "data": {
      "text/plain": [
       "array(['中山', '京都', '小倉', '東京', '中京', '阪神', '福島', '新潟', '函館', '札幌'],\n",
       "      dtype=object)"
      ]
     },
     "execution_count": 34,
     "metadata": {},
     "output_type": "execute_result"
    }
   ],
   "source": [
    "# 確認\n",
    "race_df[\"where_racecourse\"].unique()"
   ]
  },
  {
   "cell_type": "markdown",
   "metadata": {},
   "source": [
    "###  馬の数や順位\n",
    "- total_horse_number                 int64\n",
    "- frame_number_first                 int64\n",
    "- horse_number_first                 int64\n",
    "- frame_number_second                int64\n",
    "- horse_number_second                int64\n",
    "- frame_number_third                 int64\n",
    "- horse_number_third                 int64\n",
    "\n",
    "これらはそのままでOK"
   ]
  },
  {
   "cell_type": "markdown",
   "metadata": {},
   "source": [
    "### オッズから余分な「,」を除く\n",
    "- tansyo                            object\n",
    "- hukuren_first                     object\n",
    "- hukuren_second                    object\n",
    "- hukuren_third                     object\n",
    "- renhuku3                          object\n",
    "- rentan3                           object\n",
    "\n",
    "数値と文字列が混在しているので面倒\n",
    "```\n",
    "race_df['tansyo'] = race_df['tansyo'].str.strip(',')\n",
    "```\n",
    "などとしてもだめ"
   ]
  },
  {
   "cell_type": "code",
   "execution_count": 35,
   "metadata": {},
   "outputs": [
    {
     "data": {
      "text/plain": [
       "Index(['race_id', 'race_round', 'weather', 'ground_status', 'date',\n",
       "       'where_racecourse', 'total_horse_number', 'frame_number_first',\n",
       "       'horse_number_first', 'frame_number_second', 'horse_number_second',\n",
       "       'frame_number_third', 'horse_number_third', 'tansyo', 'hukusyo_first',\n",
       "       'hukusyo_second', 'hukusyo_third', 'wakuren', 'umaren', 'wide_1_2',\n",
       "       'wide_1_3', 'wide_2_3', 'umatan', 'renhuku3', 'rentan3', 'is_obstacle',\n",
       "       'ground_type', 'is_left_right_straight', 'distance', 'weather_rain',\n",
       "       'weather_snow'],\n",
       "      dtype='object')"
      ]
     },
     "execution_count": 35,
     "metadata": {},
     "output_type": "execute_result"
    }
   ],
   "source": [
    "race_df.columns"
   ]
  },
  {
   "cell_type": "code",
   "execution_count": 36,
   "metadata": {},
   "outputs": [],
   "source": [
    "race_df['tansyo'] = race_df['tansyo'].apply(lambda x: int(x.replace(\",\", \"\")) if type(x) is str else int(x))\n",
    "race_df['hukusyo_first'] = race_df['hukusyo_first'].apply(lambda x: int(x.replace(\",\", \"\")) if type(x) is str else int(x))\n",
    "race_df['hukusyo_second'] = race_df['hukusyo_second'].apply(lambda x: int(x.replace(\",\", \"\")) if type(x) is str else int(x))\n",
    "race_df['hukusyo_third'] = race_df['hukusyo_third'].apply(lambda x: int(x.replace(\",\", \"\")) if type(x) is str else int(x))\n",
    "race_df['wakuren'] = race_df['wakuren'].apply(lambda x: int(x.replace(\",\", \"\")) if type(x) is str else int(x))\n",
    "race_df['umaren'] = race_df['umaren'].apply(lambda x: int(x.replace(\",\", \"\")) if type(x) is str else int(x))\n",
    "race_df['wide_1_2'] = race_df['wide_1_2'].apply(lambda x: int(x.replace(\",\", \"\")) if type(x) is str else int(x))\n",
    "race_df['wide_1_3'] = race_df['wide_1_3'].apply(lambda x: int(x.replace(\",\", \"\")) if type(x) is str else int(x))\n",
    "race_df['wide_2_3'] = race_df['wide_2_3'].apply(lambda x: int(x.replace(\",\", \"\")) if type(x) is str else int(x))\n",
    "race_df['umatan'] = race_df['umatan'].apply(lambda x: int(x.replace(\",\", \"\")) if type(x) is str else int(x))\n",
    "race_df['renhuku3'] = race_df['renhuku3'].apply(lambda x: int(x.replace(\",\", \"\")) if type(x) is str else int(x))\n",
    "race_df['rentan3'] = race_df['rentan3'].apply(lambda x: int(x.replace(\",\", \"\")) if type(x) is str else int(x))\n"
   ]
  },
  {
   "cell_type": "code",
   "execution_count": 37,
   "metadata": {},
   "outputs": [
    {
     "data": {
      "text/html": [
       "<div>\n",
       "<style scoped>\n",
       "    .dataframe tbody tr th:only-of-type {\n",
       "        vertical-align: middle;\n",
       "    }\n",
       "\n",
       "    .dataframe tbody tr th {\n",
       "        vertical-align: top;\n",
       "    }\n",
       "\n",
       "    .dataframe thead th {\n",
       "        text-align: right;\n",
       "    }\n",
       "</style>\n",
       "<table border=\"1\" class=\"dataframe\">\n",
       "  <thead>\n",
       "    <tr style=\"text-align: right;\">\n",
       "      <th></th>\n",
       "      <th>race_id</th>\n",
       "      <th>race_round</th>\n",
       "      <th>weather</th>\n",
       "      <th>ground_status</th>\n",
       "      <th>date</th>\n",
       "      <th>where_racecourse</th>\n",
       "      <th>total_horse_number</th>\n",
       "      <th>frame_number_first</th>\n",
       "      <th>horse_number_first</th>\n",
       "      <th>frame_number_second</th>\n",
       "      <th>horse_number_second</th>\n",
       "      <th>frame_number_third</th>\n",
       "      <th>horse_number_third</th>\n",
       "      <th>tansyo</th>\n",
       "      <th>hukusyo_first</th>\n",
       "      <th>hukusyo_second</th>\n",
       "      <th>hukusyo_third</th>\n",
       "      <th>wakuren</th>\n",
       "      <th>umaren</th>\n",
       "      <th>wide_1_2</th>\n",
       "      <th>wide_1_3</th>\n",
       "      <th>wide_2_3</th>\n",
       "      <th>umatan</th>\n",
       "      <th>renhuku3</th>\n",
       "      <th>rentan3</th>\n",
       "      <th>is_obstacle</th>\n",
       "      <th>ground_type</th>\n",
       "      <th>is_left_right_straight</th>\n",
       "      <th>distance</th>\n",
       "      <th>weather_rain</th>\n",
       "      <th>weather_snow</th>\n",
       "    </tr>\n",
       "  </thead>\n",
       "  <tbody>\n",
       "    <tr>\n",
       "      <th>176</th>\n",
       "      <td>200808010709</td>\n",
       "      <td>9</td>\n",
       "      <td>曇</td>\n",
       "      <td>1</td>\n",
       "      <td>2008-01-26 14:35:00</td>\n",
       "      <td>京都</td>\n",
       "      <td>9</td>\n",
       "      <td>3</td>\n",
       "      <td>3</td>\n",
       "      <td>8</td>\n",
       "      <td>8</td>\n",
       "      <td>2</td>\n",
       "      <td>2</td>\n",
       "      <td>360270</td>\n",
       "      <td>190</td>\n",
       "      <td>150</td>\n",
       "      <td>110</td>\n",
       "      <td>1760</td>\n",
       "      <td>1640</td>\n",
       "      <td>510</td>\n",
       "      <td>270</td>\n",
       "      <td>200</td>\n",
       "      <td>17101650</td>\n",
       "      <td>1040</td>\n",
       "      <td>41503910</td>\n",
       "      <td>0.0</td>\n",
       "      <td>芝</td>\n",
       "      <td>右</td>\n",
       "      <td>2000</td>\n",
       "      <td>0</td>\n",
       "      <td>0</td>\n",
       "    </tr>\n",
       "  </tbody>\n",
       "</table>\n",
       "</div>"
      ],
      "text/plain": [
       "          race_id  race_round weather ground_status                date  \\\n",
       "176  200808010709           9       曇             1 2008-01-26 14:35:00   \n",
       "\n",
       "    where_racecourse  total_horse_number  frame_number_first  \\\n",
       "176               京都                   9                   3   \n",
       "\n",
       "     horse_number_first  frame_number_second  horse_number_second  \\\n",
       "176                   3                    8                    8   \n",
       "\n",
       "     frame_number_third  horse_number_third  tansyo  hukusyo_first  \\\n",
       "176                   2                   2  360270            190   \n",
       "\n",
       "     hukusyo_second  hukusyo_third  wakuren  umaren  wide_1_2  wide_1_3  \\\n",
       "176             150            110     1760    1640       510       270   \n",
       "\n",
       "     wide_2_3    umatan  renhuku3   rentan3  is_obstacle ground_type  \\\n",
       "176       200  17101650      1040  41503910          0.0           芝   \n",
       "\n",
       "    is_left_right_straight  distance  weather_rain  weather_snow  \n",
       "176                      右      2000             0             0  "
      ]
     },
     "execution_count": 37,
     "metadata": {},
     "output_type": "execute_result"
    }
   ],
   "source": [
    "race_df[race_df['race_id']==200808010709]"
   ]
  },
  {
   "cell_type": "code",
   "execution_count": 38,
   "metadata": {},
   "outputs": [
    {
     "name": "stdout",
     "output_type": "stream",
     "text": [
      "dataframeの各列のデータ型を確認==>\n",
      " race_id                           object\n",
      "race_round                         int32\n",
      "weather                           object\n",
      "ground_status                     object\n",
      "date                      datetime64[ns]\n",
      "where_racecourse                  object\n",
      "total_horse_number                 int64\n",
      "frame_number_first                 int64\n",
      "horse_number_first                 int64\n",
      "frame_number_second                int64\n",
      "horse_number_second                int64\n",
      "frame_number_third                 int64\n",
      "horse_number_third                 int64\n",
      "tansyo                             int64\n",
      "hukusyo_first                      int64\n",
      "hukusyo_second                     int64\n",
      "hukusyo_third                      int64\n",
      "wakuren                            int64\n",
      "umaren                             int64\n",
      "wide_1_2                           int64\n",
      "wide_1_3                           int64\n",
      "wide_2_3                           int64\n",
      "umatan                             int64\n",
      "renhuku3                           int64\n",
      "rentan3                            int64\n",
      "is_obstacle                      float64\n",
      "ground_type                       object\n",
      "is_left_right_straight            object\n",
      "distance                           int32\n",
      "weather_rain                       int64\n",
      "weather_snow                       int64\n",
      "dtype: object\n"
     ]
    },
    {
     "data": {
      "text/html": [
       "<div>\n",
       "<style scoped>\n",
       "    .dataframe tbody tr th:only-of-type {\n",
       "        vertical-align: middle;\n",
       "    }\n",
       "\n",
       "    .dataframe tbody tr th {\n",
       "        vertical-align: top;\n",
       "    }\n",
       "\n",
       "    .dataframe thead th {\n",
       "        text-align: right;\n",
       "    }\n",
       "</style>\n",
       "<table border=\"1\" class=\"dataframe\">\n",
       "  <thead>\n",
       "    <tr style=\"text-align: right;\">\n",
       "      <th></th>\n",
       "      <th>race_id</th>\n",
       "      <th>race_round</th>\n",
       "      <th>weather</th>\n",
       "      <th>ground_status</th>\n",
       "      <th>date</th>\n",
       "      <th>where_racecourse</th>\n",
       "      <th>total_horse_number</th>\n",
       "      <th>frame_number_first</th>\n",
       "      <th>horse_number_first</th>\n",
       "      <th>frame_number_second</th>\n",
       "      <th>horse_number_second</th>\n",
       "      <th>frame_number_third</th>\n",
       "      <th>horse_number_third</th>\n",
       "      <th>tansyo</th>\n",
       "      <th>hukusyo_first</th>\n",
       "      <th>hukusyo_second</th>\n",
       "      <th>hukusyo_third</th>\n",
       "      <th>wakuren</th>\n",
       "      <th>umaren</th>\n",
       "      <th>wide_1_2</th>\n",
       "      <th>wide_1_3</th>\n",
       "      <th>wide_2_3</th>\n",
       "      <th>umatan</th>\n",
       "      <th>renhuku3</th>\n",
       "      <th>rentan3</th>\n",
       "      <th>is_obstacle</th>\n",
       "      <th>ground_type</th>\n",
       "      <th>is_left_right_straight</th>\n",
       "      <th>distance</th>\n",
       "      <th>weather_rain</th>\n",
       "      <th>weather_snow</th>\n",
       "    </tr>\n",
       "  </thead>\n",
       "  <tbody>\n",
       "    <tr>\n",
       "      <th>0</th>\n",
       "      <td>200806010101</td>\n",
       "      <td>1</td>\n",
       "      <td>曇</td>\n",
       "      <td>1</td>\n",
       "      <td>2008-01-05 09:50:00</td>\n",
       "      <td>中山</td>\n",
       "      <td>16</td>\n",
       "      <td>1</td>\n",
       "      <td>2</td>\n",
       "      <td>3</td>\n",
       "      <td>5</td>\n",
       "      <td>2</td>\n",
       "      <td>3</td>\n",
       "      <td>810</td>\n",
       "      <td>260</td>\n",
       "      <td>400</td>\n",
       "      <td>290</td>\n",
       "      <td>3480</td>\n",
       "      <td>4520</td>\n",
       "      <td>1550</td>\n",
       "      <td>960</td>\n",
       "      <td>1560</td>\n",
       "      <td>8940</td>\n",
       "      <td>10600</td>\n",
       "      <td>0</td>\n",
       "      <td>0.0</td>\n",
       "      <td>ダ</td>\n",
       "      <td>右</td>\n",
       "      <td>1200</td>\n",
       "      <td>0</td>\n",
       "      <td>0</td>\n",
       "    </tr>\n",
       "  </tbody>\n",
       "</table>\n",
       "</div>"
      ],
      "text/plain": [
       "        race_id  race_round weather ground_status                date  \\\n",
       "0  200806010101           1       曇             1 2008-01-05 09:50:00   \n",
       "\n",
       "  where_racecourse  total_horse_number  frame_number_first  \\\n",
       "0               中山                  16                   1   \n",
       "\n",
       "   horse_number_first  frame_number_second  horse_number_second  \\\n",
       "0                   2                    3                    5   \n",
       "\n",
       "   frame_number_third  horse_number_third  tansyo  hukusyo_first  \\\n",
       "0                   2                   3     810            260   \n",
       "\n",
       "   hukusyo_second  hukusyo_third  wakuren  umaren  wide_1_2  wide_1_3  \\\n",
       "0             400            290     3480    4520      1550       960   \n",
       "\n",
       "   wide_2_3  umatan  renhuku3  rentan3  is_obstacle ground_type  \\\n",
       "0      1560    8940     10600        0          0.0           ダ   \n",
       "\n",
       "  is_left_right_straight  distance  weather_rain  weather_snow  \n",
       "0                      右      1200             0             0  "
      ]
     },
     "execution_count": 38,
     "metadata": {},
     "output_type": "execute_result"
    }
   ],
   "source": [
    "# 確認\n",
    "race_df['race_id'] = race_df['race_id'].astype(str)\n",
    "#race_df['race_title'] = race_df['race_title'].astype(str)\n",
    "print('dataframeの各列のデータ型を確認==>\\n', race_df.dtypes)\n",
    "\n",
    "\n",
    "race_df.head(1)"
   ]
  },
  {
   "cell_type": "markdown",
   "metadata": {},
   "source": [
    "### race dataの保存"
   ]
  },
  {
   "cell_type": "code",
   "execution_count": 39,
   "metadata": {},
   "outputs": [],
   "source": [
    "race_df.to_csv(\"csv/cleaned_race_data.csv\", index=False )"
   ]
  },
  {
   "cell_type": "markdown",
   "metadata": {},
   "source": [
    "## horse data の整形"
   ]
  },
  {
   "cell_type": "code",
   "execution_count": 40,
   "metadata": {},
   "outputs": [
    {
     "name": "stdout",
     "output_type": "stream",
     "text": [
      "(713857, 19)\n",
      "race_id            int64\n",
      "rank              object\n",
      "frame_number       int64\n",
      "horse_number       int64\n",
      "horse_id           int64\n",
      "sex_and_age       object\n",
      "burden_weight    float64\n",
      "rider_id           int64\n",
      "goal_time         object\n",
      "goal_time_dif     object\n",
      "time_value        object\n",
      "half_way_rank     object\n",
      "last_time        float64\n",
      "odds              object\n",
      "popular          float64\n",
      "horse_weight      object\n",
      "tame_time         object\n",
      "tamer_id           int64\n",
      "owner_id          object\n",
      "dtype: object\n"
     ]
    },
    {
     "data": {
      "text/html": [
       "<div>\n",
       "<style scoped>\n",
       "    .dataframe tbody tr th:only-of-type {\n",
       "        vertical-align: middle;\n",
       "    }\n",
       "\n",
       "    .dataframe tbody tr th {\n",
       "        vertical-align: top;\n",
       "    }\n",
       "\n",
       "    .dataframe thead th {\n",
       "        text-align: right;\n",
       "    }\n",
       "</style>\n",
       "<table border=\"1\" class=\"dataframe\">\n",
       "  <thead>\n",
       "    <tr style=\"text-align: right;\">\n",
       "      <th></th>\n",
       "      <th>race_id</th>\n",
       "      <th>rank</th>\n",
       "      <th>frame_number</th>\n",
       "      <th>horse_number</th>\n",
       "      <th>horse_id</th>\n",
       "      <th>sex_and_age</th>\n",
       "      <th>burden_weight</th>\n",
       "      <th>rider_id</th>\n",
       "      <th>goal_time</th>\n",
       "      <th>goal_time_dif</th>\n",
       "      <th>time_value</th>\n",
       "      <th>half_way_rank</th>\n",
       "      <th>last_time</th>\n",
       "      <th>odds</th>\n",
       "      <th>popular</th>\n",
       "      <th>horse_weight</th>\n",
       "      <th>tame_time</th>\n",
       "      <th>tamer_id</th>\n",
       "      <th>owner_id</th>\n",
       "    </tr>\n",
       "  </thead>\n",
       "  <tbody>\n",
       "    <tr>\n",
       "      <th>0</th>\n",
       "      <td>200806010101</td>\n",
       "      <td>1</td>\n",
       "      <td>1</td>\n",
       "      <td>2</td>\n",
       "      <td>2005102028</td>\n",
       "      <td>牝3</td>\n",
       "      <td>54.0</td>\n",
       "      <td>733</td>\n",
       "      <td>1:13.9</td>\n",
       "      <td>NaN</td>\n",
       "      <td>\\n\\n**\\n\\n</td>\n",
       "      <td>1-1</td>\n",
       "      <td>39.2</td>\n",
       "      <td>8.1</td>\n",
       "      <td>4.0</td>\n",
       "      <td>450(-10)</td>\n",
       "      <td>\\n\\n</td>\n",
       "      <td>138</td>\n",
       "      <td>498800</td>\n",
       "    </tr>\n",
       "    <tr>\n",
       "      <th>1</th>\n",
       "      <td>200806010101</td>\n",
       "      <td>2</td>\n",
       "      <td>3</td>\n",
       "      <td>5</td>\n",
       "      <td>2005101044</td>\n",
       "      <td>牝3</td>\n",
       "      <td>54.0</td>\n",
       "      <td>663</td>\n",
       "      <td>1:13.9</td>\n",
       "      <td>ハナ</td>\n",
       "      <td>\\n\\n**\\n\\n</td>\n",
       "      <td>10-7</td>\n",
       "      <td>38.5</td>\n",
       "      <td>13.4</td>\n",
       "      <td>6.0</td>\n",
       "      <td>482(+2)</td>\n",
       "      <td>\\n\\n</td>\n",
       "      <td>1088</td>\n",
       "      <td>163002</td>\n",
       "    </tr>\n",
       "  </tbody>\n",
       "</table>\n",
       "</div>"
      ],
      "text/plain": [
       "        race_id rank  frame_number  horse_number    horse_id sex_and_age  \\\n",
       "0  200806010101    1             1             2  2005102028          牝3   \n",
       "1  200806010101    2             3             5  2005101044          牝3   \n",
       "\n",
       "   burden_weight rider_id goal_time goal_time_dif  time_value half_way_rank  \\\n",
       "0           54.0      733    1:13.9           NaN  \\n\\n**\\n\\n           1-1   \n",
       "1           54.0      663    1:13.9            ハナ  \\n\\n**\\n\\n          10-7   \n",
       "\n",
       "   last_time  odds  popular horse_weight tame_time tamer_id owner_id  \n",
       "0       39.2   8.1      4.0     450(-10)      \\n\\n      138   498800  \n",
       "1       38.5  13.4      6.0      482(+2)      \\n\\n     1088   163002  "
      ]
     },
     "execution_count": 40,
     "metadata": {},
     "output_type": "execute_result"
    }
   ],
   "source": [
    "print(horse_df.shape)\n",
    "print(horse_df.dtypes)\n",
    "horse_df['race_id'] = horse_df['race_id'].astype(str)\n",
    "horse_df['horse_id'] = horse_df['horse_id'].astype(str)\n",
    "horse_df['tamer_id'] = horse_df['tamer_id'].astype(str)\n",
    "horse_df['owner_id'] = horse_df['owner_id'].astype(str)\n",
    "horse_df['rider_id'] = horse_df['rider_id'].astype(str)\n",
    "\n",
    "horse_df.head(2)"
   ]
  },
  {
   "cell_type": "code",
   "execution_count": null,
   "metadata": {},
   "outputs": [],
   "source": []
  },
  {
   "cell_type": "code",
   "execution_count": 41,
   "metadata": {},
   "outputs": [
    {
     "data": {
      "text/html": [
       "<div>\n",
       "<style scoped>\n",
       "    .dataframe tbody tr th:only-of-type {\n",
       "        vertical-align: middle;\n",
       "    }\n",
       "\n",
       "    .dataframe tbody tr th {\n",
       "        vertical-align: top;\n",
       "    }\n",
       "\n",
       "    .dataframe thead th {\n",
       "        text-align: right;\n",
       "    }\n",
       "</style>\n",
       "<table border=\"1\" class=\"dataframe\">\n",
       "  <thead>\n",
       "    <tr style=\"text-align: right;\">\n",
       "      <th></th>\n",
       "      <th>race_id</th>\n",
       "      <th>rank</th>\n",
       "      <th>frame_number</th>\n",
       "      <th>horse_number</th>\n",
       "      <th>horse_id</th>\n",
       "      <th>sex_and_age</th>\n",
       "      <th>burden_weight</th>\n",
       "      <th>rider_id</th>\n",
       "      <th>goal_time</th>\n",
       "      <th>goal_time_dif</th>\n",
       "      <th>time_value</th>\n",
       "      <th>half_way_rank</th>\n",
       "      <th>last_time</th>\n",
       "      <th>odds</th>\n",
       "      <th>popular</th>\n",
       "      <th>horse_weight</th>\n",
       "      <th>tame_time</th>\n",
       "      <th>tamer_id</th>\n",
       "      <th>owner_id</th>\n",
       "      <th>date</th>\n",
       "    </tr>\n",
       "  </thead>\n",
       "  <tbody>\n",
       "    <tr>\n",
       "      <th>0</th>\n",
       "      <td>200806010101</td>\n",
       "      <td>1</td>\n",
       "      <td>1</td>\n",
       "      <td>2</td>\n",
       "      <td>2005102028</td>\n",
       "      <td>牝3</td>\n",
       "      <td>54.0</td>\n",
       "      <td>733</td>\n",
       "      <td>1:13.9</td>\n",
       "      <td>NaN</td>\n",
       "      <td>\\n\\n**\\n\\n</td>\n",
       "      <td>1-1</td>\n",
       "      <td>39.2</td>\n",
       "      <td>8.1</td>\n",
       "      <td>4.0</td>\n",
       "      <td>450(-10)</td>\n",
       "      <td>\\n\\n</td>\n",
       "      <td>138</td>\n",
       "      <td>498800</td>\n",
       "      <td>2008-01-05 09:50:00</td>\n",
       "    </tr>\n",
       "    <tr>\n",
       "      <th>1</th>\n",
       "      <td>200806010101</td>\n",
       "      <td>2</td>\n",
       "      <td>3</td>\n",
       "      <td>5</td>\n",
       "      <td>2005101044</td>\n",
       "      <td>牝3</td>\n",
       "      <td>54.0</td>\n",
       "      <td>663</td>\n",
       "      <td>1:13.9</td>\n",
       "      <td>ハナ</td>\n",
       "      <td>\\n\\n**\\n\\n</td>\n",
       "      <td>10-7</td>\n",
       "      <td>38.5</td>\n",
       "      <td>13.4</td>\n",
       "      <td>6.0</td>\n",
       "      <td>482(+2)</td>\n",
       "      <td>\\n\\n</td>\n",
       "      <td>1088</td>\n",
       "      <td>163002</td>\n",
       "      <td>2008-01-05 09:50:00</td>\n",
       "    </tr>\n",
       "    <tr>\n",
       "      <th>2</th>\n",
       "      <td>200806010101</td>\n",
       "      <td>3</td>\n",
       "      <td>2</td>\n",
       "      <td>3</td>\n",
       "      <td>2005104156</td>\n",
       "      <td>牝3</td>\n",
       "      <td>54.0</td>\n",
       "      <td>684</td>\n",
       "      <td>1:14.2</td>\n",
       "      <td>1.3/4</td>\n",
       "      <td>\\n\\n**\\n\\n</td>\n",
       "      <td>13-8</td>\n",
       "      <td>38.5</td>\n",
       "      <td>8.2</td>\n",
       "      <td>5.0</td>\n",
       "      <td>458(+4)</td>\n",
       "      <td>\\n\\n</td>\n",
       "      <td>1054</td>\n",
       "      <td>486800</td>\n",
       "      <td>2008-01-05 09:50:00</td>\n",
       "    </tr>\n",
       "    <tr>\n",
       "      <th>3</th>\n",
       "      <td>200806010101</td>\n",
       "      <td>4</td>\n",
       "      <td>4</td>\n",
       "      <td>7</td>\n",
       "      <td>2005103612</td>\n",
       "      <td>牝3</td>\n",
       "      <td>54.0</td>\n",
       "      <td>1095</td>\n",
       "      <td>1:14.3</td>\n",
       "      <td>3/4</td>\n",
       "      <td>\\n\\n**\\n\\n</td>\n",
       "      <td>2-2</td>\n",
       "      <td>39.5</td>\n",
       "      <td>2.9</td>\n",
       "      <td>1.0</td>\n",
       "      <td>456(-2)</td>\n",
       "      <td>\\n\\n</td>\n",
       "      <td>436</td>\n",
       "      <td>274002</td>\n",
       "      <td>2008-01-05 09:50:00</td>\n",
       "    </tr>\n",
       "    <tr>\n",
       "      <th>4</th>\n",
       "      <td>200806010101</td>\n",
       "      <td>5</td>\n",
       "      <td>6</td>\n",
       "      <td>12</td>\n",
       "      <td>2005102035</td>\n",
       "      <td>牝3</td>\n",
       "      <td>54.0</td>\n",
       "      <td>1077</td>\n",
       "      <td>1:14.5</td>\n",
       "      <td>1.1/4</td>\n",
       "      <td>\\n\\n**\\n\\n</td>\n",
       "      <td>3-3</td>\n",
       "      <td>39.6</td>\n",
       "      <td>4.3</td>\n",
       "      <td>2.0</td>\n",
       "      <td>458(-10)</td>\n",
       "      <td>\\n\\n</td>\n",
       "      <td>1007</td>\n",
       "      <td>498800</td>\n",
       "      <td>2008-01-05 09:50:00</td>\n",
       "    </tr>\n",
       "  </tbody>\n",
       "</table>\n",
       "</div>"
      ],
      "text/plain": [
       "        race_id rank  frame_number  horse_number    horse_id sex_and_age  \\\n",
       "0  200806010101    1             1             2  2005102028          牝3   \n",
       "1  200806010101    2             3             5  2005101044          牝3   \n",
       "2  200806010101    3             2             3  2005104156          牝3   \n",
       "3  200806010101    4             4             7  2005103612          牝3   \n",
       "4  200806010101    5             6            12  2005102035          牝3   \n",
       "\n",
       "   burden_weight rider_id goal_time goal_time_dif  time_value half_way_rank  \\\n",
       "0           54.0      733    1:13.9           NaN  \\n\\n**\\n\\n           1-1   \n",
       "1           54.0      663    1:13.9            ハナ  \\n\\n**\\n\\n          10-7   \n",
       "2           54.0      684    1:14.2         1.3/4  \\n\\n**\\n\\n          13-8   \n",
       "3           54.0     1095    1:14.3           3/4  \\n\\n**\\n\\n           2-2   \n",
       "4           54.0     1077    1:14.5         1.1/4  \\n\\n**\\n\\n           3-3   \n",
       "\n",
       "   last_time  odds  popular horse_weight tame_time tamer_id owner_id  \\\n",
       "0       39.2   8.1      4.0     450(-10)      \\n\\n      138   498800   \n",
       "1       38.5  13.4      6.0      482(+2)      \\n\\n     1088   163002   \n",
       "2       38.5   8.2      5.0      458(+4)      \\n\\n     1054   486800   \n",
       "3       39.5   2.9      1.0      456(-2)      \\n\\n      436   274002   \n",
       "4       39.6   4.3      2.0     458(-10)      \\n\\n     1007   498800   \n",
       "\n",
       "                 date  \n",
       "0 2008-01-05 09:50:00  \n",
       "1 2008-01-05 09:50:00  \n",
       "2 2008-01-05 09:50:00  \n",
       "3 2008-01-05 09:50:00  \n",
       "4 2008-01-05 09:50:00  "
      ]
     },
     "execution_count": 41,
     "metadata": {},
     "output_type": "execute_result"
    }
   ],
   "source": [
    "# 何かとデータ分析で便利なので、レース日時情報をmerge\n",
    "race_tmp_df = race_df[[\"race_id\", \"date\"]]\n",
    "horse_df = pd.merge(horse_df, race_tmp_df, on='race_id')\n",
    "horse_df.head()"
   ]
  },
  {
   "cell_type": "markdown",
   "metadata": {},
   "source": [
    "### 使わなさそうな情報を削除\n",
    "- time_value, tame_time(プレミアム会員向けの情報)\n",
    "- goal_time_dif(自分で作成する)"
   ]
  },
  {
   "cell_type": "code",
   "execution_count": 42,
   "metadata": {},
   "outputs": [],
   "source": [
    "horse_df.drop(['time_value'], axis=1, inplace=True)\n",
    "horse_df.drop(['goal_time_dif'], axis=1, inplace=True)\n",
    "horse_df.drop(['tame_time'], axis=1, inplace=True)"
   ]
  },
  {
   "cell_type": "markdown",
   "metadata": {},
   "source": [
    "### race_id\n",
    "そのままでOK"
   ]
  },
  {
   "cell_type": "markdown",
   "metadata": {},
   "source": [
    "### rank\n",
    "> - 降着・・・\t「その走行妨害がなければ被害馬が加害馬に先着していた」と判断した場合、加害馬は被害馬の後ろに降着となります。\n",
    "> - 失格・・・\t「極めて悪質で他の騎手や馬に対する危険な行為によって、競走に重大な支障を生じさせた」と判断した場合、加害馬は失格となります。\n",
    "\n",
    "> 注記：被害馬が落馬や疾病発症等により競走を中止した場合には、上記の「失格」に該当しない限り着順は到達順位のとおり確定します。\n"
   ]
  },
  {
   "cell_type": "markdown",
   "metadata": {},
   "source": [
    "- 降格は降格フラグに分割、順位そのまま入れておく\n",
    "- 取・除はそもそも参加していないので削除\n",
    "- 失は順位が全く当てにならないので情報を削除\n",
    "- 中は最後まで到達していないが参加はしている。ひとまず20位にしておく。goal_timeが無いので、大きめに取る必要がある。\n",
    "- 12(再)は12で最後の模様。そのまま12にする"
   ]
  },
  {
   "cell_type": "code",
   "execution_count": 43,
   "metadata": {},
   "outputs": [
    {
     "data": {
      "text/html": [
       "<div>\n",
       "<style scoped>\n",
       "    .dataframe tbody tr th:only-of-type {\n",
       "        vertical-align: middle;\n",
       "    }\n",
       "\n",
       "    .dataframe tbody tr th {\n",
       "        vertical-align: top;\n",
       "    }\n",
       "\n",
       "    .dataframe thead th {\n",
       "        text-align: right;\n",
       "    }\n",
       "</style>\n",
       "<table border=\"1\" class=\"dataframe\">\n",
       "  <thead>\n",
       "    <tr style=\"text-align: right;\">\n",
       "      <th></th>\n",
       "      <th>race_id</th>\n",
       "      <th>rank</th>\n",
       "      <th>frame_number</th>\n",
       "      <th>horse_number</th>\n",
       "      <th>horse_id</th>\n",
       "      <th>sex_and_age</th>\n",
       "      <th>burden_weight</th>\n",
       "      <th>rider_id</th>\n",
       "      <th>goal_time</th>\n",
       "      <th>half_way_rank</th>\n",
       "      <th>last_time</th>\n",
       "      <th>odds</th>\n",
       "      <th>popular</th>\n",
       "      <th>horse_weight</th>\n",
       "      <th>tamer_id</th>\n",
       "      <th>owner_id</th>\n",
       "      <th>date</th>\n",
       "    </tr>\n",
       "  </thead>\n",
       "  <tbody>\n",
       "    <tr>\n",
       "      <th>207054</th>\n",
       "      <td>201209010104</td>\n",
       "      <td>12(再)</td>\n",
       "      <td>5</td>\n",
       "      <td>6</td>\n",
       "      <td>2006101490</td>\n",
       "      <td>牡6</td>\n",
       "      <td>60.0</td>\n",
       "      <td>1072</td>\n",
       "      <td>3:55.2</td>\n",
       "      <td>9-9-10-12</td>\n",
       "      <td>15.8</td>\n",
       "      <td>45.6</td>\n",
       "      <td>9.0</td>\n",
       "      <td>502(-2)</td>\n",
       "      <td>1110</td>\n",
       "      <td>090006</td>\n",
       "      <td>2012-02-25 11:30:00</td>\n",
       "    </tr>\n",
       "  </tbody>\n",
       "</table>\n",
       "</div>"
      ],
      "text/plain": [
       "             race_id   rank  frame_number  horse_number    horse_id  \\\n",
       "207054  201209010104  12(再)             5             6  2006101490   \n",
       "\n",
       "       sex_and_age  burden_weight rider_id goal_time half_way_rank  last_time  \\\n",
       "207054          牡6           60.0     1072    3:55.2     9-9-10-12       15.8   \n",
       "\n",
       "        odds  popular horse_weight tamer_id owner_id                date  \n",
       "207054  45.6      9.0      502(-2)     1110   090006 2012-02-25 11:30:00  "
      ]
     },
     "execution_count": 43,
     "metadata": {},
     "output_type": "execute_result"
    }
   ],
   "source": [
    "# 確認\n",
    "horse_df[horse_df['rank'] =='中'].sort_values('date').head(2)\n",
    "horse_df[horse_df['rank'] =='取'].sort_values('date').head(2)\n",
    "horse_df[horse_df['rank'] =='除'].sort_values('date').head(2)\n",
    "horse_df[horse_df['rank'] =='16(降)'].sort_values('date').head(2)\n",
    "horse_df[horse_df['rank'] =='12(再)'].sort_values('date').head(2)"
   ]
  },
  {
   "cell_type": "code",
   "execution_count": 44,
   "metadata": {},
   "outputs": [],
   "source": [
    "# 降格を別へ\n",
    "is_down = horse_df[\"rank\"].str.extract('(\\(降\\))', expand=True)\n",
    "is_down.columns ={\"is_down\"}\n",
    "horse_df = pd.concat([horse_df, is_down], axis=1)\n",
    "\n",
    "horse_df.fillna(value={'is_down': 0}, inplace=True)\n",
    "horse_df['is_down'] = horse_df['is_down'].replace('(降)', 1)\n",
    "\n",
    "## 余分な文字を削除\n",
    "horse_df['rank'] = horse_df['rank'].apply(lambda x: x.replace(\"(降)\", \"\"))\n",
    "horse_df['rank'] = horse_df['rank'].apply(lambda x: x.replace(\"(再)\", \"\"))"
   ]
  },
  {
   "cell_type": "code",
   "execution_count": 45,
   "metadata": {},
   "outputs": [],
   "source": [
    "\"\"\"- 取・除はそもそも参加していないので削除\n",
    "- 失は順位が全く当てにならないので情報を削除\n",
    "- 中は最後まで到達していないが参加はしている。ひとまず20位にしておく\"\"\"\n",
    "\n",
    "horse_df = horse_df[(horse_df['rank'] != \"取\") & (horse_df['rank'] != \"除\") & (horse_df['rank'] != \"失\")]\n",
    "horse_df['rank'] = pd.DataFrame(horse_df['rank'].mask(horse_df['rank'] == \"中\", 20))"
   ]
  },
  {
   "cell_type": "code",
   "execution_count": 46,
   "metadata": {},
   "outputs": [
    {
     "data": {
      "text/plain": [
       "1     49989\n",
       "3     49961\n",
       "2     49950\n",
       "5     49932\n",
       "4     49925\n",
       "6     49902\n",
       "7     49748\n",
       "8     49319\n",
       "9     48303\n",
       "10    46597\n",
       "11    44228\n",
       "12    41234\n",
       "13    37258\n",
       "14    33009\n",
       "15    28148\n",
       "16    21324\n",
       "17     5024\n",
       "18     3895\n",
       "20     3504\n",
       "Name: rank, dtype: int64"
      ]
     },
     "execution_count": 46,
     "metadata": {},
     "output_type": "execute_result"
    }
   ],
   "source": [
    "# 確認\n",
    "horse_df[\"rank\"].value_counts()"
   ]
  },
  {
   "cell_type": "markdown",
   "metadata": {},
   "source": [
    "### 姓と年齢をsplit"
   ]
  },
  {
   "cell_type": "code",
   "execution_count": 47,
   "metadata": {},
   "outputs": [
    {
     "data": {
      "text/plain": [
       "array(['牝3', '牡3', 'セ3', '牝4', '牝5', '牡4', '牡5', 'セ6', '牡9', 'セ4', '牡6',\n",
       "       'セ8', '牝6', '牡8', '牡7', '牡10', 'セ10', '牝7', 'セ9', 'セ5', 'セ7', '牝8',\n",
       "       '牡12', '牡11', '牝9', 'セ11', '牝2', '牡2', 'セ2', '牝10', '牡13', 'セ12'],\n",
       "      dtype=object)"
      ]
     },
     "execution_count": 47,
     "metadata": {},
     "output_type": "execute_result"
    }
   ],
   "source": [
    "horse_df['sex_and_age'].unique()"
   ]
  },
  {
   "cell_type": "code",
   "execution_count": 48,
   "metadata": {},
   "outputs": [],
   "source": [
    "# 性別を別へ\n",
    "\n",
    "is_senba = horse_df[\"sex_and_age\"].str.extract('(セ)', expand=True)\n",
    "is_senba.columns ={\"is_senba\"}\n",
    "horse_df = pd.concat([horse_df, is_senba], axis=1)\n",
    "\n",
    "is_mesu = horse_df[\"sex_and_age\"].str.extract('(牝)', expand=True)\n",
    "is_mesu.columns ={\"is_mesu\"}\n",
    "horse_df = pd.concat([horse_df, is_mesu], axis=1)\n",
    "\n",
    "is_osu = horse_df[\"sex_and_age\"].str.extract('(牡)', expand=True)\n",
    "is_osu.columns ={\"is_osu\"}\n",
    "horse_df = pd.concat([horse_df, is_osu], axis=1)\n"
   ]
  },
  {
   "cell_type": "code",
   "execution_count": 49,
   "metadata": {},
   "outputs": [],
   "source": [
    "horse_df.fillna(value={'is_osu': 0}, inplace=True)\n",
    "horse_df['is_osu'] = horse_df['is_osu'].replace('牡', 1)\n",
    "horse_df.fillna(value={'is_mesu': 0}, inplace=True)\n",
    "horse_df['is_mesu'] = horse_df['is_mesu'].replace('牝', 1)\n",
    "horse_df.fillna(value={'is_senba': 0}, inplace=True)\n",
    "horse_df['is_senba'] = horse_df['is_senba'].replace('セ', 1)\n",
    "## 余分な文字を削除\n",
    "horse_df['sex_and_age'] = horse_df['sex_and_age'].str.strip(\"牝牡セ\")\n",
    "horse_df['sex_and_age'] = horse_df['sex_and_age'].astype(int)"
   ]
  },
  {
   "cell_type": "code",
   "execution_count": 50,
   "metadata": {},
   "outputs": [],
   "source": [
    "horse_df = horse_df.rename(columns={'sex_and_age': 'age'})"
   ]
  },
  {
   "cell_type": "markdown",
   "metadata": {},
   "source": [
    "## goal_timeをtimedelta型にしてから秒に(last_timeも)"
   ]
  },
  {
   "cell_type": "code",
   "execution_count": 51,
   "metadata": {},
   "outputs": [
    {
     "name": "stdout",
     "output_type": "stream",
     "text": [
      "3504\n",
      "3509\n"
     ]
    }
   ],
   "source": [
    "# nullになるのは、レースで「中」になった馬\n",
    "print(horse_df['goal_time'].isnull().sum())\n",
    "print(horse_df['last_time'].isnull().sum())"
   ]
  },
  {
   "cell_type": "code",
   "execution_count": 52,
   "metadata": {},
   "outputs": [],
   "source": [
    "horse_df['goal_time'] = pd.to_datetime(horse_df['goal_time'], format='%M:%S.%f') - pd.to_datetime('00:00.0', format='%M:%S.%f')\n",
    "horse_df['goal_time'] = horse_df['goal_time'].dt.total_seconds()"
   ]
  },
  {
   "cell_type": "code",
   "execution_count": 53,
   "metadata": {},
   "outputs": [],
   "source": [
    "# 欠損値を最大値で埋める\n",
    "horse_df.fillna(value={'goal_time': horse_df['goal_time'].max()}, inplace=True)\n",
    "horse_df.fillna(value={'last_time': horse_df['last_time'].max()}, inplace=True)"
   ]
  },
  {
   "cell_type": "code",
   "execution_count": 54,
   "metadata": {},
   "outputs": [
    {
     "data": {
      "text/plain": [
       "race_id                  object\n",
       "rank                     object\n",
       "frame_number              int64\n",
       "horse_number              int64\n",
       "horse_id                 object\n",
       "age                       int32\n",
       "burden_weight           float64\n",
       "rider_id                 object\n",
       "goal_time               float64\n",
       "half_way_rank            object\n",
       "last_time               float64\n",
       "odds                     object\n",
       "popular                 float64\n",
       "horse_weight             object\n",
       "tamer_id                 object\n",
       "owner_id                 object\n",
       "date             datetime64[ns]\n",
       "is_down                   int64\n",
       "is_senba                  int64\n",
       "is_mesu                   int64\n",
       "is_osu                    int64\n",
       "dtype: object"
      ]
     },
     "execution_count": 54,
     "metadata": {},
     "output_type": "execute_result"
    }
   ],
   "source": [
    "horse_df.dtypes"
   ]
  },
  {
   "cell_type": "markdown",
   "metadata": {},
   "source": [
    "### goal_timeとレース距離から、平均速度を求める"
   ]
  },
  {
   "cell_type": "code",
   "execution_count": 55,
   "metadata": {},
   "outputs": [],
   "source": [
    "# レース距離情報をmerge\n",
    "race_tmp_df = race_df[[\"race_id\", \"distance\"]]\n",
    "horse_df = pd.merge(horse_df, race_tmp_df, on='race_id')"
   ]
  },
  {
   "cell_type": "code",
   "execution_count": 56,
   "metadata": {},
   "outputs": [],
   "source": [
    "horse_df[\"distance\"] = horse_df[\"distance\"].astype(int)\n",
    "horse_df[\"avg_velocity\"] = horse_df[\"distance\"]/horse_df[\"goal_time\"]\n"
   ]
  },
  {
   "cell_type": "code",
   "execution_count": null,
   "metadata": {},
   "outputs": [],
   "source": []
  },
  {
   "cell_type": "markdown",
   "metadata": {},
   "source": [
    "### half_way_rank\n",
    "splitして平均値を保持する（レースによってまちまちなので）"
   ]
  },
  {
   "cell_type": "code",
   "execution_count": 57,
   "metadata": {},
   "outputs": [],
   "source": [
    "from statistics import mean\n",
    "horse_df[\"half_way_rank\"] = horse_df[\"half_way_rank\"].apply(lambda x: mean([float(n) for n in (x.split(\"-\"))]) if type(x) is str else float(x) )"
   ]
  },
  {
   "cell_type": "code",
   "execution_count": 58,
   "metadata": {},
   "outputs": [
    {
     "data": {
      "text/plain": [
       "0"
      ]
     },
     "execution_count": 58,
     "metadata": {},
     "output_type": "execute_result"
    }
   ],
   "source": [
    "horse_df[horse_df[\"rank\"] == 20] = horse_df[horse_df[\"rank\"] == 20].fillna({'half_way_rank': 20})\n",
    "horse_df[\"half_way_rank\"] = horse_df[\"half_way_rank\"].fillna(horse_df['half_way_rank'].mean())\n",
    "horse_df[\"half_way_rank\"].isnull().sum()"
   ]
  },
  {
   "cell_type": "code",
   "execution_count": 59,
   "metadata": {},
   "outputs": [],
   "source": [
    "horse_df[\"half_way_rank\"] = horse_df[\"half_way_rank\"].astype(float)"
   ]
  },
  {
   "cell_type": "markdown",
   "metadata": {},
   "source": [
    "### horse_weight と diff の分離\n",
    "「計不」は平均で穴埋め"
   ]
  },
  {
   "cell_type": "code",
   "execution_count": 60,
   "metadata": {},
   "outputs": [],
   "source": [
    "horse_weight_dif = horse_df[\"horse_weight\"].str.extract('\\(([-|+]?\\d*)\\)', expand=True)\n",
    "horse_weight_dif.columns ={\"horse_weight_dif\"}\n",
    "\n",
    "horse_df = pd.concat([horse_df, horse_weight_dif], axis=1)\n",
    "\n",
    "horse_df['horse_weight'] = horse_df['horse_weight'].replace('\\(([-|+]?\\d*)\\)', '', regex=True)\n",
    "\n"
   ]
  },
  {
   "cell_type": "code",
   "execution_count": 61,
   "metadata": {},
   "outputs": [],
   "source": [
    "horse_df['horse_weight'] = horse_df['horse_weight'].replace('計不', np.nan)\n",
    "horse_df['horse_weight'] = horse_df['horse_weight'].astype(float)\n",
    "horse_df['horse_weight_dif'] = horse_df['horse_weight_dif'].astype(float)"
   ]
  },
  {
   "cell_type": "code",
   "execution_count": 62,
   "metadata": {},
   "outputs": [],
   "source": [
    "# 計不 の horse_idを探し、馬ごとの平均値で穴埋め\n",
    "no_records = horse_df[horse_df['horse_weight'].isnull()]['horse_id']\n",
    "for no_record_id in no_records:\n",
    "    horse_df.loc[(horse_df['horse_id'] == no_record_id)&(horse_df['horse_weight'].isnull()), 'horse_weight'] = horse_df[horse_df['horse_id'] == no_record_id]['horse_weight'].mean() \n",
    "    horse_df.loc[(horse_df['horse_id'] == no_record_id)&(horse_df['horse_weight_dif'].isnull()), 'horse_weight_dif'] = 0 \n",
    "    "
   ]
  },
  {
   "cell_type": "code",
   "execution_count": 63,
   "metadata": {},
   "outputs": [
    {
     "data": {
      "text/plain": [
       "race_id                     object\n",
       "rank                        object\n",
       "frame_number                 int64\n",
       "horse_number                 int64\n",
       "horse_id                    object\n",
       "age                          int32\n",
       "burden_weight              float64\n",
       "rider_id                    object\n",
       "goal_time                  float64\n",
       "half_way_rank              float64\n",
       "last_time                  float64\n",
       "odds                        object\n",
       "popular                    float64\n",
       "horse_weight               float64\n",
       "tamer_id                    object\n",
       "owner_id                    object\n",
       "date                datetime64[ns]\n",
       "is_down                      int64\n",
       "is_senba                     int64\n",
       "is_mesu                      int64\n",
       "is_osu                       int64\n",
       "distance                     int32\n",
       "avg_velocity               float64\n",
       "horse_weight_dif           float64\n",
       "dtype: object"
      ]
     },
     "execution_count": 63,
     "metadata": {},
     "output_type": "execute_result"
    }
   ],
   "source": [
    "horse_df.dtypes"
   ]
  },
  {
   "cell_type": "markdown",
   "metadata": {},
   "source": [
    "### burden_weight, horse_weight の比率を追加"
   ]
  },
  {
   "cell_type": "code",
   "execution_count": 64,
   "metadata": {},
   "outputs": [],
   "source": [
    "horse_df['burden_weight_rate'] = horse_df['burden_weight']/horse_df['horse_weight']"
   ]
  },
  {
   "cell_type": "markdown",
   "metadata": {},
   "source": [
    "### last_time\n",
    "とりあえず放置するが、外れ値の扱いを考えたほうが良さそう。"
   ]
  },
  {
   "cell_type": "code",
   "execution_count": 65,
   "metadata": {},
   "outputs": [
    {
     "data": {
      "text/plain": [
       "<AxesSubplot:ylabel='Frequency'>"
      ]
     },
     "execution_count": 65,
     "metadata": {},
     "output_type": "execute_result"
    },
    {
     "data": {
      "image/png": "[encoded data removed]",
      "text/plain": [
       "<Figure size 1152x288 with 1 Axes>"
      ]
     },
     "metadata": {
      "needs_background": "light"
     },
     "output_type": "display_data"
    }
   ],
   "source": [
    "horse_df.plot(kind='hist', y='last_time' , bins=50, figsize=(16,4), alpha=0.5)"
   ]
  },
  {
   "cell_type": "code",
   "execution_count": 66,
   "metadata": {},
   "outputs": [
    {
     "data": {
      "text/plain": [
       "array(['200806010208', '200806010304', '200806010604', ...,\n",
       "       '202207040401', '202209030101', '202209030104'], dtype=object)"
      ]
     },
     "execution_count": 66,
     "metadata": {},
     "output_type": "execute_result"
    }
   ],
   "source": [
    "horse_df[horse_df['last_time']<20]['race_id'].unique()"
   ]
  },
  {
   "cell_type": "code",
   "execution_count": 67,
   "metadata": {},
   "outputs": [
    {
     "data": {
      "text/html": [
       "<div>\n",
       "<style scoped>\n",
       "    .dataframe tbody tr th:only-of-type {\n",
       "        vertical-align: middle;\n",
       "    }\n",
       "\n",
       "    .dataframe tbody tr th {\n",
       "        vertical-align: top;\n",
       "    }\n",
       "\n",
       "    .dataframe thead th {\n",
       "        text-align: right;\n",
       "    }\n",
       "</style>\n",
       "<table border=\"1\" class=\"dataframe\">\n",
       "  <thead>\n",
       "    <tr style=\"text-align: right;\">\n",
       "      <th></th>\n",
       "      <th>race_id</th>\n",
       "      <th>race_round</th>\n",
       "      <th>weather</th>\n",
       "      <th>ground_status</th>\n",
       "      <th>date</th>\n",
       "      <th>where_racecourse</th>\n",
       "      <th>total_horse_number</th>\n",
       "      <th>frame_number_first</th>\n",
       "      <th>horse_number_first</th>\n",
       "      <th>frame_number_second</th>\n",
       "      <th>horse_number_second</th>\n",
       "      <th>frame_number_third</th>\n",
       "      <th>horse_number_third</th>\n",
       "      <th>tansyo</th>\n",
       "      <th>hukusyo_first</th>\n",
       "      <th>hukusyo_second</th>\n",
       "      <th>hukusyo_third</th>\n",
       "      <th>wakuren</th>\n",
       "      <th>umaren</th>\n",
       "      <th>wide_1_2</th>\n",
       "      <th>wide_1_3</th>\n",
       "      <th>wide_2_3</th>\n",
       "      <th>umatan</th>\n",
       "      <th>renhuku3</th>\n",
       "      <th>rentan3</th>\n",
       "      <th>is_obstacle</th>\n",
       "      <th>ground_type</th>\n",
       "      <th>is_left_right_straight</th>\n",
       "      <th>distance</th>\n",
       "      <th>weather_rain</th>\n",
       "      <th>weather_snow</th>\n",
       "    </tr>\n",
       "  </thead>\n",
       "  <tbody>\n",
       "    <tr>\n",
       "      <th>19</th>\n",
       "      <td>200806010208</td>\n",
       "      <td>8</td>\n",
       "      <td>晴</td>\n",
       "      <td>1</td>\n",
       "      <td>2008-01-06 13:40:00</td>\n",
       "      <td>中山</td>\n",
       "      <td>14</td>\n",
       "      <td>6</td>\n",
       "      <td>9</td>\n",
       "      <td>5</td>\n",
       "      <td>7</td>\n",
       "      <td>2</td>\n",
       "      <td>2</td>\n",
       "      <td>2550</td>\n",
       "      <td>510</td>\n",
       "      <td>530</td>\n",
       "      <td>220</td>\n",
       "      <td>970</td>\n",
       "      <td>21030</td>\n",
       "      <td>4010</td>\n",
       "      <td>2050</td>\n",
       "      <td>1870</td>\n",
       "      <td>44390</td>\n",
       "      <td>33660</td>\n",
       "      <td>0</td>\n",
       "      <td>1.0</td>\n",
       "      <td>芝</td>\n",
       "      <td>NaN</td>\n",
       "      <td>3200</td>\n",
       "      <td>0</td>\n",
       "      <td>0</td>\n",
       "    </tr>\n",
       "    <tr>\n",
       "      <th>27</th>\n",
       "      <td>200806010304</td>\n",
       "      <td>4</td>\n",
       "      <td>雨</td>\n",
       "      <td>1</td>\n",
       "      <td>2008-01-12 11:20:00</td>\n",
       "      <td>中山</td>\n",
       "      <td>14</td>\n",
       "      <td>3</td>\n",
       "      <td>4</td>\n",
       "      <td>2</td>\n",
       "      <td>2</td>\n",
       "      <td>5</td>\n",
       "      <td>8</td>\n",
       "      <td>2340</td>\n",
       "      <td>330</td>\n",
       "      <td>150</td>\n",
       "      <td>150</td>\n",
       "      <td>2760</td>\n",
       "      <td>3300</td>\n",
       "      <td>880</td>\n",
       "      <td>850</td>\n",
       "      <td>290</td>\n",
       "      <td>8390</td>\n",
       "      <td>2610</td>\n",
       "      <td>0</td>\n",
       "      <td>1.0</td>\n",
       "      <td>芝</td>\n",
       "      <td>NaN</td>\n",
       "      <td>2880</td>\n",
       "      <td>2</td>\n",
       "      <td>0</td>\n",
       "    </tr>\n",
       "    <tr>\n",
       "      <th>183</th>\n",
       "      <td>200808010804</td>\n",
       "      <td>4</td>\n",
       "      <td>曇</td>\n",
       "      <td>4</td>\n",
       "      <td>2008-01-27 11:40:00</td>\n",
       "      <td>京都</td>\n",
       "      <td>14</td>\n",
       "      <td>7</td>\n",
       "      <td>12</td>\n",
       "      <td>1</td>\n",
       "      <td>1</td>\n",
       "      <td>8</td>\n",
       "      <td>13</td>\n",
       "      <td>380</td>\n",
       "      <td>130</td>\n",
       "      <td>110</td>\n",
       "      <td>430</td>\n",
       "      <td>350</td>\n",
       "      <td>340</td>\n",
       "      <td>180</td>\n",
       "      <td>1040</td>\n",
       "      <td>920</td>\n",
       "      <td>860</td>\n",
       "      <td>2020</td>\n",
       "      <td>0</td>\n",
       "      <td>1.0</td>\n",
       "      <td>芝</td>\n",
       "      <td>NaN</td>\n",
       "      <td>2930</td>\n",
       "      <td>0</td>\n",
       "      <td>0</td>\n",
       "    </tr>\n",
       "  </tbody>\n",
       "</table>\n",
       "</div>"
      ],
      "text/plain": [
       "          race_id  race_round weather ground_status                date  \\\n",
       "19   200806010208           8       晴             1 2008-01-06 13:40:00   \n",
       "27   200806010304           4       雨             1 2008-01-12 11:20:00   \n",
       "183  200808010804           4       曇             4 2008-01-27 11:40:00   \n",
       "\n",
       "    where_racecourse  total_horse_number  frame_number_first  \\\n",
       "19                中山                  14                   6   \n",
       "27                中山                  14                   3   \n",
       "183               京都                  14                   7   \n",
       "\n",
       "     horse_number_first  frame_number_second  horse_number_second  \\\n",
       "19                    9                    5                    7   \n",
       "27                    4                    2                    2   \n",
       "183                  12                    1                    1   \n",
       "\n",
       "     frame_number_third  horse_number_third  tansyo  hukusyo_first  \\\n",
       "19                    2                   2    2550            510   \n",
       "27                    5                   8    2340            330   \n",
       "183                   8                  13     380            130   \n",
       "\n",
       "     hukusyo_second  hukusyo_third  wakuren  umaren  wide_1_2  wide_1_3  \\\n",
       "19              530            220      970   21030      4010      2050   \n",
       "27              150            150     2760    3300       880       850   \n",
       "183             110            430      350     340       180      1040   \n",
       "\n",
       "     wide_2_3  umatan  renhuku3  rentan3  is_obstacle ground_type  \\\n",
       "19       1870   44390     33660        0          1.0           芝   \n",
       "27        290    8390      2610        0          1.0           芝   \n",
       "183       920     860      2020        0          1.0           芝   \n",
       "\n",
       "    is_left_right_straight  distance  weather_rain  weather_snow  \n",
       "19                     NaN      3200             0             0  \n",
       "27                     NaN      2880             2             0  \n",
       "183                    NaN      2930             0             0  "
      ]
     },
     "execution_count": 67,
     "metadata": {},
     "output_type": "execute_result"
    }
   ],
   "source": [
    "race_df[(race_df['race_id']=='200808010804') | (race_df['race_id']=='200806010208') | (race_df['race_id']=='200806010304')]"
   ]
  },
  {
   "cell_type": "markdown",
   "metadata": {},
   "source": [
    "### odds"
   ]
  },
  {
   "cell_type": "code",
   "execution_count": 68,
   "metadata": {},
   "outputs": [],
   "source": [
    "horse_df['odds']= horse_df['odds'].astype(float)"
   ]
  },
  {
   "cell_type": "code",
   "execution_count": null,
   "metadata": {},
   "outputs": [],
   "source": []
  },
  {
   "cell_type": "markdown",
   "metadata": {},
   "source": [
    "### horse dataの保存"
   ]
  },
  {
   "cell_type": "code",
   "execution_count": 69,
   "metadata": {
    "scrolled": true
   },
   "outputs": [
    {
     "name": "stdout",
     "output_type": "stream",
     "text": [
      "race_id                       object\n",
      "rank                          object\n",
      "frame_number                   int64\n",
      "horse_number                   int64\n",
      "horse_id                      object\n",
      "age                            int32\n",
      "burden_weight                float64\n",
      "rider_id                      object\n",
      "goal_time                    float64\n",
      "half_way_rank                float64\n",
      "last_time                    float64\n",
      "odds                         float64\n",
      "popular                      float64\n",
      "horse_weight                 float64\n",
      "tamer_id                      object\n",
      "owner_id                      object\n",
      "date                  datetime64[ns]\n",
      "is_down                        int64\n",
      "is_senba                       int64\n",
      "is_mesu                        int64\n",
      "is_osu                         int64\n",
      "distance                       int32\n",
      "avg_velocity                 float64\n",
      "horse_weight_dif             float64\n",
      "burden_weight_rate           float64\n",
      "dtype: object\n"
     ]
    },
    {
     "data": {
      "text/html": [
       "<div>\n",
       "<style scoped>\n",
       "    .dataframe tbody tr th:only-of-type {\n",
       "        vertical-align: middle;\n",
       "    }\n",
       "\n",
       "    .dataframe tbody tr th {\n",
       "        vertical-align: top;\n",
       "    }\n",
       "\n",
       "    .dataframe thead th {\n",
       "        text-align: right;\n",
       "    }\n",
       "</style>\n",
       "<table border=\"1\" class=\"dataframe\">\n",
       "  <thead>\n",
       "    <tr style=\"text-align: right;\">\n",
       "      <th></th>\n",
       "      <th>race_id</th>\n",
       "      <th>rank</th>\n",
       "      <th>frame_number</th>\n",
       "      <th>horse_number</th>\n",
       "      <th>horse_id</th>\n",
       "      <th>age</th>\n",
       "      <th>burden_weight</th>\n",
       "      <th>rider_id</th>\n",
       "      <th>goal_time</th>\n",
       "      <th>half_way_rank</th>\n",
       "      <th>last_time</th>\n",
       "      <th>odds</th>\n",
       "      <th>popular</th>\n",
       "      <th>horse_weight</th>\n",
       "      <th>tamer_id</th>\n",
       "      <th>owner_id</th>\n",
       "      <th>date</th>\n",
       "      <th>is_down</th>\n",
       "      <th>is_senba</th>\n",
       "      <th>is_mesu</th>\n",
       "      <th>is_osu</th>\n",
       "      <th>distance</th>\n",
       "      <th>avg_velocity</th>\n",
       "      <th>horse_weight_dif</th>\n",
       "      <th>burden_weight_rate</th>\n",
       "    </tr>\n",
       "  </thead>\n",
       "  <tbody>\n",
       "    <tr>\n",
       "      <th>0</th>\n",
       "      <td>200806010101</td>\n",
       "      <td>1</td>\n",
       "      <td>1</td>\n",
       "      <td>2</td>\n",
       "      <td>2005102028</td>\n",
       "      <td>3</td>\n",
       "      <td>54.0</td>\n",
       "      <td>733</td>\n",
       "      <td>73.9</td>\n",
       "      <td>1.0</td>\n",
       "      <td>39.2</td>\n",
       "      <td>8.1</td>\n",
       "      <td>4.0</td>\n",
       "      <td>450.0</td>\n",
       "      <td>138</td>\n",
       "      <td>498800</td>\n",
       "      <td>2008-01-05 09:50:00</td>\n",
       "      <td>0</td>\n",
       "      <td>0</td>\n",
       "      <td>1</td>\n",
       "      <td>0</td>\n",
       "      <td>1200</td>\n",
       "      <td>16.238160</td>\n",
       "      <td>-10.0</td>\n",
       "      <td>0.120000</td>\n",
       "    </tr>\n",
       "    <tr>\n",
       "      <th>1</th>\n",
       "      <td>200806010101</td>\n",
       "      <td>2</td>\n",
       "      <td>3</td>\n",
       "      <td>5</td>\n",
       "      <td>2005101044</td>\n",
       "      <td>3</td>\n",
       "      <td>54.0</td>\n",
       "      <td>663</td>\n",
       "      <td>73.9</td>\n",
       "      <td>8.5</td>\n",
       "      <td>38.5</td>\n",
       "      <td>13.4</td>\n",
       "      <td>6.0</td>\n",
       "      <td>482.0</td>\n",
       "      <td>1088</td>\n",
       "      <td>163002</td>\n",
       "      <td>2008-01-05 09:50:00</td>\n",
       "      <td>0</td>\n",
       "      <td>0</td>\n",
       "      <td>1</td>\n",
       "      <td>0</td>\n",
       "      <td>1200</td>\n",
       "      <td>16.238160</td>\n",
       "      <td>2.0</td>\n",
       "      <td>0.112033</td>\n",
       "    </tr>\n",
       "    <tr>\n",
       "      <th>2</th>\n",
       "      <td>200806010101</td>\n",
       "      <td>3</td>\n",
       "      <td>2</td>\n",
       "      <td>3</td>\n",
       "      <td>2005104156</td>\n",
       "      <td>3</td>\n",
       "      <td>54.0</td>\n",
       "      <td>684</td>\n",
       "      <td>74.2</td>\n",
       "      <td>10.5</td>\n",
       "      <td>38.5</td>\n",
       "      <td>8.2</td>\n",
       "      <td>5.0</td>\n",
       "      <td>458.0</td>\n",
       "      <td>1054</td>\n",
       "      <td>486800</td>\n",
       "      <td>2008-01-05 09:50:00</td>\n",
       "      <td>0</td>\n",
       "      <td>0</td>\n",
       "      <td>1</td>\n",
       "      <td>0</td>\n",
       "      <td>1200</td>\n",
       "      <td>16.172507</td>\n",
       "      <td>4.0</td>\n",
       "      <td>0.117904</td>\n",
       "    </tr>\n",
       "  </tbody>\n",
       "</table>\n",
       "</div>"
      ],
      "text/plain": [
       "        race_id rank  frame_number  horse_number    horse_id  age  \\\n",
       "0  200806010101    1             1             2  2005102028    3   \n",
       "1  200806010101    2             3             5  2005101044    3   \n",
       "2  200806010101    3             2             3  2005104156    3   \n",
       "\n",
       "   burden_weight rider_id  goal_time  half_way_rank  last_time  odds  popular  \\\n",
       "0           54.0      733       73.9            1.0       39.2   8.1      4.0   \n",
       "1           54.0      663       73.9            8.5       38.5  13.4      6.0   \n",
       "2           54.0      684       74.2           10.5       38.5   8.2      5.0   \n",
       "\n",
       "   horse_weight tamer_id owner_id                date  is_down  is_senba  \\\n",
       "0         450.0      138   498800 2008-01-05 09:50:00        0         0   \n",
       "1         482.0     1088   163002 2008-01-05 09:50:00        0         0   \n",
       "2         458.0     1054   486800 2008-01-05 09:50:00        0         0   \n",
       "\n",
       "   is_mesu  is_osu  distance  avg_velocity  horse_weight_dif  \\\n",
       "0        1       0      1200     16.238160             -10.0   \n",
       "1        1       0      1200     16.238160               2.0   \n",
       "2        1       0      1200     16.172507               4.0   \n",
       "\n",
       "   burden_weight_rate  \n",
       "0            0.120000  \n",
       "1            0.112033  \n",
       "2            0.117904  "
      ]
     },
     "execution_count": 69,
     "metadata": {},
     "output_type": "execute_result"
    }
   ],
   "source": [
    "print(horse_df.dtypes)\n",
    "horse_df.head(3)"
   ]
  },
  {
   "cell_type": "code",
   "execution_count": 70,
   "metadata": {},
   "outputs": [],
   "source": [
    "horse_df.to_csv(\"csv/cleaned_horse_data.csv\", index=False )"
   ]
  },
  {
   "cell_type": "code",
   "execution_count": null,
   "metadata": {},
   "outputs": [],
   "source": []
  }
 ],
 "metadata": {
  "kernelspec": {
   "display_name": "Python 3.7.9 64-bit (system)",
   "language": "python",
   "name": "python3"
  },
  "language_info": {
   "codemirror_mode": {
    "name": "ipython",
    "version": 3
   },
   "file_extension": ".py",
   "mimetype": "text/x-python",
   "name": "python",
   "nbconvert_exporter": "python",
   "pygments_lexer": "ipython3",
   "version": "3.7.9"
  },
  "vscode": {
   "interpreter": {
    "hash": "7abbde3a9bb075262fb4636cf59a3b2cb3f1b0a90ad9505cc4035096a888333e"
   }
  }
 },
 "nbformat": 4,
 "nbformat_minor": 2
}
